{
 "metadata": {
  "language_info": {
   "codemirror_mode": {
    "name": "ipython",
    "version": 3
   },
   "file_extension": ".py",
   "mimetype": "text/x-python",
   "name": "python",
   "nbconvert_exporter": "python",
   "pygments_lexer": "ipython3",
   "version": "3.8.5"
  },
  "orig_nbformat": 2,
  "kernelspec": {
   "name": "python385jvsc74a57bd0f7316325c726c48d8640d1370d529074b831729b5e6f1f058eda2f21c001cae2",
   "display_name": "Python 3.8.5 64-bit ('savor-dash': pipenv)"
  }
 },
 "nbformat": 4,
 "nbformat_minor": 2,
 "cells": [
  {
   "source": [
    "# Savor Data\n",
    "\n",
    "> Extract, transform, explore"
   ],
   "cell_type": "markdown",
   "metadata": {}
  },
  {
   "source": [
    "---\n",
    "\n",
    "## Setup"
   ],
   "cell_type": "markdown",
   "metadata": {}
  },
  {
   "cell_type": "code",
   "execution_count": 1,
   "metadata": {},
   "outputs": [],
   "source": [
    "# === Imports and config === #\n",
    "from os import environ\n",
    "from pprint import pprint\n",
    "from pathlib import Path\n",
    "\n",
    "from airtable import Airtable\n",
    "from dotenv import load_dotenv\n",
    "import pandas as pd\n",
    "import numpy as np\n",
    "\n",
    "# Plotly imports\n",
    "import plotly.express as px\n",
    "import plotly.figure_factory as ff\n",
    "import plotly.graph_objs as go\n",
    "import plotly.io as pio\n",
    "\n",
    "# Set plotly default color theme to dark mode\n",
    "pio.templates.default = \"plotly_dark\"\n",
    "\n",
    "# # Jupyter + Plotly imports (if running in Colab or Visual Studio Code, comment out the 2 lines below)\n",
    "# import plotly.offline as pyo\n",
    "# pyo.init_notebook_mode()  # Set plotly to notebook mode / work offline\n",
    "\n",
    "# Ignore this Numpy warning when using Plotly Express:\n",
    "# FutureWarning: Method .ptp is deprecated and will be removed in a future version. Use numpy.ptp instead.\n",
    "# import warnings\n",
    "# warnings.filterwarnings(action='ignore', category=FutureWarning, module='numpy'\n",
    "\n",
    "pd.options.display.max_rows = 100\n",
    "pd.options.display.max_columns = 50\n",
    "\n",
    "# Airtable authentication\n",
    "load_dotenv(dotenv_path=\".env\")\n",
    "base_key = environ.get(\"AIRTABLE_BASE_KEY\")\n",
    "api_key = environ.get(\"AIRTABLE_API_KEY\")"
   ]
  },
  {
   "source": [
    "## Pipelines\n",
    "\n",
    "- Extract + transform from \"dimension\" tables to match up related records' primary keys\n",
    "- Extract + transform time-series data from `engage_log` into dataframe"
   ],
   "cell_type": "markdown",
   "metadata": {}
  },
  {
   "source": [
    "### Relations"
   ],
   "cell_type": "markdown",
   "metadata": {}
  },
  {
   "cell_type": "code",
   "execution_count": 2,
   "metadata": {},
   "outputs": [],
   "source": [
    "def create_lookup(base_key: str, api_key: str, table_fields: dict) -> pd.Series:\n",
    "    \"\"\"Creates an ID lookup series from a set of Airtable tables.\"\"\"\n",
    "    series_index = []  # Index (id) array\n",
    "    series_data = []  # Series data\n",
    "    for table in tables_and_fields:  # Loop through tables to retrieve records and save in array\n",
    "        airtable = Airtable(base_key, table, api_key=api_key)  # Connect to table\n",
    "        records = airtable.get_all(fields=tables_and_fields[table])  # Retrieve records\n",
    "        for record in records:  # Transform and save records to arrays\n",
    "            series_index.append(record[\"id\"])\n",
    "            series_data.append(record[\"fields\"][\"name\"])\n",
    "    # Return series, indexed by ID\n",
    "    return pd.Series(series_data, index=series_index)"
   ]
  },
  {
   "cell_type": "code",
   "execution_count": 3,
   "metadata": {},
   "outputs": [
    {
     "output_type": "execute_result",
     "data": {
      "text/plain": [
       "'Code'"
      ]
     },
     "metadata": {},
     "execution_count": 3
    }
   ],
   "source": [
    "# Related tables to match up via ID\n",
    "tables_and_fields = {\n",
    "    \"mental\": [\"name\"],\n",
    "    \"physical\": [\"name\"],\n",
    "    \"dose\": [\"name\", \"supp\", \"amt\", \"unit\"],\n",
    "    \"who\": [\"name\"],\n",
    "    \"location\": [\"name\", \"location\", \"city\", \"state\"],\n",
    "    \"subloc\": [\"name\"],\n",
    "    \"tag\": [\"name\"],\n",
    "}\n",
    "\n",
    "lookup = create_lookup(base_key, api_key, tables_and_fields)\n",
    "# Confirm it worked by looking up name for id (in this ex, \"Code\")\n",
    "lookup[\"recknqtgREfJulPie\"]"
   ]
  },
  {
   "source": [
    "### Time Series DataFrame\n",
    "\n",
    "The data comes out of the API like this:\n",
    "\n",
    "```py\n",
    "[{'id': 'rec09tUYvKhC92ZSg',\n",
    "  'fields': {'id_num': 24800,\n",
    "   'session': ['recXt8s9a9fTRTbLf'],\n",
    "   'name': '24800-Sta-Cod',\n",
    "   'modified': '2021-04-29T22:05:23.000Z',\n",
    "   'created': '2021-04-29T22:04:47.000Z',\n",
    "   'project_location': ['recidY4IXWvLNWOp0'],\n",
    "   'time_in': '2021-04-29T22:02:00.000Z',\n",
    "   'mental': ['recknqtgREfJulPie'],\n",
    "   'physical': ['recpSKLyNVgI0wdjf'],\n",
    "   'tag': ['receKaJGCFL7i4a4g', 'recyPGKraDv5I0YQZ'],\n",
    "   'subloc': ['rec0jakijbv2aJ2lj'],\n",
    "   'mental_note': '# Savor Dash Data'},\n",
    "  'createdTime': '2021-04-29T22:04:47.000Z'},\n",
    " {'id': 'recyGC5jmggOHxBWm',\n",
    "  'fields': {'id_num': 24799,\n",
    "   'session': ['recXt8s9a9fTRTbLf'],\n",
    "   'name': '24799-Sta-Wor',\n",
    "   'modified': '2021-04-29T21:58:15.000Z',\n",
    "   'created': '2021-04-29T21:58:06.000Z',\n",
    "   'project_location': ['recidY4IXWvLNWOp0'],\n",
    "   'time_in': '2021-04-29T21:57:00.000Z',\n",
    "   'mental': ['recV7J7xUq1TS4UaA'],\n",
    "   'physical': ['recpSKLyNVgI0wdjf'],\n",
    "   'subloc': ['rec0jakijbv2aJ2lj']},\n",
    "  'createdTime': '2021-04-29T21:58:06.000Z'}]\n",
    "```\n",
    "\n",
    "And so needs to be transformed a little bit to be loaded into a DataFrame."
   ],
   "cell_type": "markdown",
   "metadata": {}
  },
  {
   "cell_type": "code",
   "execution_count": 26,
   "metadata": {},
   "outputs": [],
   "source": [
    "# Create connection to engage_log table\n",
    "engage_log = Airtable(base_key, \"engage_log\", api_key=api_key)"
   ]
  },
  {
   "cell_type": "code",
   "execution_count": 43,
   "metadata": {},
   "outputs": [],
   "source": [
    "from datetime import datetime, timezone\n",
    "\n",
    "def get_data_for_date_range(conn: Airtable, start: datetime, end: datetime) -> pd.DataFrame:\n",
    "    \"\"\"Retrieve Airtable data within the specified time range.\n",
    "    Assumes that datetimes passed are in UTC, so convert to UTC beforehand.\"\"\"\n",
    "    # Loop through pages and records within pages, checking the time_in against the range\n",
    "    records = []\n",
    "    for page in conn.get_iter(sort=[\"-time_in\"], page_size=50):\n",
    "        # Page size of 50 = roughly # records in average day\n",
    "        for record in page:\n",
    "            # Airtable saves records in UTC\n",
    "            time_in = datetime.fromisoformat(record[\"fields\"][\"time_in\"][:-5] + \"+00:00\")\n",
    "            # If inside range, append to list of raw data; else break from loop\n",
    "            if time_in > end:\n",
    "                continue\n",
    "            elif time_in > start and time_in < end:\n",
    "                # Extract id and fields into flat dictionary\n",
    "                re_dict = record[\"fields\"]\n",
    "                re_dict[\"id\"] = record[\"id\"]\n",
    "                records.append(re_dict)\n",
    "            else:\n",
    "                break\n",
    "        else:\n",
    "            continue\n",
    "        break  # Break outer loop when inner loop is broken\n",
    "\n",
    "    # Load list of records into dataframe and return\n",
    "    return pd.DataFrame.from_records(records)"
   ]
  },
  {
   "cell_type": "code",
   "execution_count": 28,
   "metadata": {},
   "outputs": [],
   "source": [
    "import dateutil\n",
    "\n",
    "# Create start and end UTC datetimes\n",
    "mdt = dateutil.tz.gettz(\"America/Denver\")  # MDT timezone info\n",
    "# Convert the MDT date to UTC\n",
    "start = datetime(2021, 4, 26, tzinfo=mdt).astimezone(timezone.utc)\n",
    "end = datetime.now(timezone.utc) # Now/today, in UTC\n",
    "\n",
    "# Retrieve records for date range\n",
    "df1_engage = get_data_for_date_range(engage_log, start, end)"
   ]
  },
  {
   "cell_type": "code",
   "execution_count": 29,
   "metadata": {},
   "outputs": [
    {
     "output_type": "execute_result",
     "data": {
      "text/plain": [
       "         mental_note  id_num              session               subloc  \\\n",
       "0  # Savor Dash Data   24800  [recXt8s9a9fTRTbLf]  [rec0jakijbv2aJ2lj]   \n",
       "1                NaN   24799  [recXt8s9a9fTRTbLf]  [rec0jakijbv2aJ2lj]   \n",
       "2                NaN   24798  [recXt8s9a9fTRTbLf]  [rec0jakijbv2aJ2lj]   \n",
       "3                NaN   24797  [recXt8s9a9fTRTbLf]  [reclkHtEN4C6wr4dv]   \n",
       "4                NaN   24796  [recXt8s9a9fTRTbLf]  [recWNsckWelXKeR7d]   \n",
       "\n",
       "                                      tag                   time_in  \\\n",
       "0  [receKaJGCFL7i4a4g, recyPGKraDv5I0YQZ]  2021-04-29T22:02:00.000Z   \n",
       "1                                     NaN  2021-04-29T21:57:00.000Z   \n",
       "2                                     NaN  2021-04-29T21:39:00.000Z   \n",
       "3                                     NaN  2021-04-29T21:29:00.000Z   \n",
       "4                                     NaN  2021-04-29T21:17:00.000Z   \n",
       "\n",
       "                mental                                physical  \\\n",
       "0  [recknqtgREfJulPie]                     [recpSKLyNVgI0wdjf]   \n",
       "1  [recV7J7xUq1TS4UaA]                     [recpSKLyNVgI0wdjf]   \n",
       "2  [rec2wZ0LboOW8fyAy]                     [recUCSBNFwpBrnDGb]   \n",
       "3  [recx5VEAjXKeYLjZF]  [rec3AnOkXgiPoni7u, recpg577q4IdfjJZi]   \n",
       "4  [recx5VEAjXKeYLjZF]                     [recpg577q4IdfjJZi]   \n",
       "\n",
       "                   modified                   created     project_location  \\\n",
       "0  2021-04-29T22:05:23.000Z  2021-04-29T22:04:47.000Z  [recidY4IXWvLNWOp0]   \n",
       "1  2021-04-29T21:58:15.000Z  2021-04-29T21:58:06.000Z  [recidY4IXWvLNWOp0]   \n",
       "2  2021-04-29T21:38:47.000Z  2021-04-29T21:38:10.000Z  [recidY4IXWvLNWOp0]   \n",
       "3  2021-04-29T21:38:31.000Z  2021-04-29T21:37:53.000Z  [recidY4IXWvLNWOp0]   \n",
       "4  2021-04-29T21:37:52.000Z  2021-04-29T21:16:56.000Z  [recidY4IXWvLNWOp0]   \n",
       "\n",
       "            name                 id  \\\n",
       "0  24800-Sta-Cod  rec09tUYvKhC92ZSg   \n",
       "1  24799-Sta-Wor  recyGC5jmggOHxBWm   \n",
       "2  24798-Sit-Med  recxhjn6VKc2HGZbG   \n",
       "3  24797-Foo-Thi  rec850VNGKKThCWT5   \n",
       "4  24796-Sna-Thi  recufmGBkq9KCJmxn   \n",
       "\n",
       "                                       physical_note dose  who moment_log  \n",
       "0                                                NaN  NaN  NaN        NaN  \n",
       "1                                                NaN  NaN  NaN        NaN  \n",
       "2                                NSDR / mindfulness.  NaN  NaN        NaN  \n",
       "3                        Pistachios and green drink.  NaN  NaN        NaN  \n",
       "4  Some almonds, trail mix and chicharrones in th...  NaN  NaN        NaN  "
      ],
      "text/html": "<div>\n<style scoped>\n    .dataframe tbody tr th:only-of-type {\n        vertical-align: middle;\n    }\n\n    .dataframe tbody tr th {\n        vertical-align: top;\n    }\n\n    .dataframe thead th {\n        text-align: right;\n    }\n</style>\n<table border=\"1\" class=\"dataframe\">\n  <thead>\n    <tr style=\"text-align: right;\">\n      <th></th>\n      <th>mental_note</th>\n      <th>id_num</th>\n      <th>session</th>\n      <th>subloc</th>\n      <th>tag</th>\n      <th>time_in</th>\n      <th>mental</th>\n      <th>physical</th>\n      <th>modified</th>\n      <th>created</th>\n      <th>project_location</th>\n      <th>name</th>\n      <th>id</th>\n      <th>physical_note</th>\n      <th>dose</th>\n      <th>who</th>\n      <th>moment_log</th>\n    </tr>\n  </thead>\n  <tbody>\n    <tr>\n      <th>0</th>\n      <td># Savor Dash Data</td>\n      <td>24800</td>\n      <td>[recXt8s9a9fTRTbLf]</td>\n      <td>[rec0jakijbv2aJ2lj]</td>\n      <td>[receKaJGCFL7i4a4g, recyPGKraDv5I0YQZ]</td>\n      <td>2021-04-29T22:02:00.000Z</td>\n      <td>[recknqtgREfJulPie]</td>\n      <td>[recpSKLyNVgI0wdjf]</td>\n      <td>2021-04-29T22:05:23.000Z</td>\n      <td>2021-04-29T22:04:47.000Z</td>\n      <td>[recidY4IXWvLNWOp0]</td>\n      <td>24800-Sta-Cod</td>\n      <td>rec09tUYvKhC92ZSg</td>\n      <td>NaN</td>\n      <td>NaN</td>\n      <td>NaN</td>\n      <td>NaN</td>\n    </tr>\n    <tr>\n      <th>1</th>\n      <td>NaN</td>\n      <td>24799</td>\n      <td>[recXt8s9a9fTRTbLf]</td>\n      <td>[rec0jakijbv2aJ2lj]</td>\n      <td>NaN</td>\n      <td>2021-04-29T21:57:00.000Z</td>\n      <td>[recV7J7xUq1TS4UaA]</td>\n      <td>[recpSKLyNVgI0wdjf]</td>\n      <td>2021-04-29T21:58:15.000Z</td>\n      <td>2021-04-29T21:58:06.000Z</td>\n      <td>[recidY4IXWvLNWOp0]</td>\n      <td>24799-Sta-Wor</td>\n      <td>recyGC5jmggOHxBWm</td>\n      <td>NaN</td>\n      <td>NaN</td>\n      <td>NaN</td>\n      <td>NaN</td>\n    </tr>\n    <tr>\n      <th>2</th>\n      <td>NaN</td>\n      <td>24798</td>\n      <td>[recXt8s9a9fTRTbLf]</td>\n      <td>[rec0jakijbv2aJ2lj]</td>\n      <td>NaN</td>\n      <td>2021-04-29T21:39:00.000Z</td>\n      <td>[rec2wZ0LboOW8fyAy]</td>\n      <td>[recUCSBNFwpBrnDGb]</td>\n      <td>2021-04-29T21:38:47.000Z</td>\n      <td>2021-04-29T21:38:10.000Z</td>\n      <td>[recidY4IXWvLNWOp0]</td>\n      <td>24798-Sit-Med</td>\n      <td>recxhjn6VKc2HGZbG</td>\n      <td>NSDR / mindfulness.</td>\n      <td>NaN</td>\n      <td>NaN</td>\n      <td>NaN</td>\n    </tr>\n    <tr>\n      <th>3</th>\n      <td>NaN</td>\n      <td>24797</td>\n      <td>[recXt8s9a9fTRTbLf]</td>\n      <td>[reclkHtEN4C6wr4dv]</td>\n      <td>NaN</td>\n      <td>2021-04-29T21:29:00.000Z</td>\n      <td>[recx5VEAjXKeYLjZF]</td>\n      <td>[rec3AnOkXgiPoni7u, recpg577q4IdfjJZi]</td>\n      <td>2021-04-29T21:38:31.000Z</td>\n      <td>2021-04-29T21:37:53.000Z</td>\n      <td>[recidY4IXWvLNWOp0]</td>\n      <td>24797-Foo-Thi</td>\n      <td>rec850VNGKKThCWT5</td>\n      <td>Pistachios and green drink.</td>\n      <td>NaN</td>\n      <td>NaN</td>\n      <td>NaN</td>\n    </tr>\n    <tr>\n      <th>4</th>\n      <td>NaN</td>\n      <td>24796</td>\n      <td>[recXt8s9a9fTRTbLf]</td>\n      <td>[recWNsckWelXKeR7d]</td>\n      <td>NaN</td>\n      <td>2021-04-29T21:17:00.000Z</td>\n      <td>[recx5VEAjXKeYLjZF]</td>\n      <td>[recpg577q4IdfjJZi]</td>\n      <td>2021-04-29T21:37:52.000Z</td>\n      <td>2021-04-29T21:16:56.000Z</td>\n      <td>[recidY4IXWvLNWOp0]</td>\n      <td>24796-Sna-Thi</td>\n      <td>recufmGBkq9KCJmxn</td>\n      <td>Some almonds, trail mix and chicharrones in th...</td>\n      <td>NaN</td>\n      <td>NaN</td>\n      <td>NaN</td>\n    </tr>\n  </tbody>\n</table>\n</div>"
     },
     "metadata": {},
     "execution_count": 29
    }
   ],
   "source": [
    "df1_engage.head()"
   ]
  },
  {
   "source": [
    "### Transformation (Expansion)\n",
    "\n",
    "Obviously it's a little clunky to work with the relational fields in their current form (e.g. `[rec3AnOkXgiPoni7u, recpg577q4IdfjJZi]`).\n",
    "\n",
    "- [Expand arrays in cells](https://chrisalbon.com/python/data_wrangling/pandas_expand_cells_containing_lists/)\n",
    "- [DataFrame JOINs](https://pandas.pydata.org/pandas-docs/stable/getting_started/comparison/comparison_with_sql.html#compare-with-sql-join)"
   ],
   "cell_type": "markdown",
   "metadata": {}
  },
  {
   "cell_type": "code",
   "execution_count": 46,
   "metadata": {},
   "outputs": [
    {
     "output_type": "execute_result",
     "data": {
      "text/plain": [
       "               tag_0              tag_1 tag_2 tag_3\n",
       "0  receKaJGCFL7i4a4g  recyPGKraDv5I0YQZ   NaN   NaN\n",
       "1                NaN                NaN   NaN   NaN\n",
       "2                NaN                NaN   NaN   NaN"
      ],
      "text/html": "<div>\n<style scoped>\n    .dataframe tbody tr th:only-of-type {\n        vertical-align: middle;\n    }\n\n    .dataframe tbody tr th {\n        vertical-align: top;\n    }\n\n    .dataframe thead th {\n        text-align: right;\n    }\n</style>\n<table border=\"1\" class=\"dataframe\">\n  <thead>\n    <tr style=\"text-align: right;\">\n      <th></th>\n      <th>tag_0</th>\n      <th>tag_1</th>\n      <th>tag_2</th>\n      <th>tag_3</th>\n    </tr>\n  </thead>\n  <tbody>\n    <tr>\n      <th>0</th>\n      <td>receKaJGCFL7i4a4g</td>\n      <td>recyPGKraDv5I0YQZ</td>\n      <td>NaN</td>\n      <td>NaN</td>\n    </tr>\n    <tr>\n      <th>1</th>\n      <td>NaN</td>\n      <td>NaN</td>\n      <td>NaN</td>\n      <td>NaN</td>\n    </tr>\n    <tr>\n      <th>2</th>\n      <td>NaN</td>\n      <td>NaN</td>\n      <td>NaN</td>\n      <td>NaN</td>\n    </tr>\n  </tbody>\n</table>\n</div>"
     },
     "metadata": {},
     "execution_count": 46
    }
   ],
   "source": [
    "# Expand the arrays within columns to get a single item per column\n",
    "tag = df1_engage[\"tag\"].apply(pd.Series)\n",
    "\n",
    "# Rename columns to be more informative\n",
    "tag = tag.rename(columns = lambda x: f\"tag_{x}\")\n",
    "tag[:3]"
   ]
  },
  {
   "cell_type": "code",
   "execution_count": 41,
   "metadata": {},
   "outputs": [],
   "source": [
    "# Functionalize the expansion logic\n",
    "from typing import List\n",
    "\n",
    "def expand_list_cols(df: pd.DataFrame, cols: List[str]) -> pd.DataFrame:\n",
    "    \"\"\"Expands arrays contained in the columns then concatenates them\n",
    "    back onto the original DataFrame.\n",
    "    \"\"\"\n",
    "    df = df.copy()  # Make copy so original is not modified\n",
    "    df_list = [None] * len(cols)  # Create list of same length\n",
    "    for i, col in enumerate(cols):  # Iterate through column names\n",
    "        # Expand column into its own dataframe\n",
    "        df_list[i] = df[col].apply(pd.Series)\n",
    "        # Rename and number columns\n",
    "        # TODO: if only one column, don't suffix with number\n",
    "        df_list[i] = df_list[i].rename(columns = lambda x: f\"{col}_{x}\")\n",
    "        df = df.drop(columns=[col])\n",
    "\n",
    "    # Concatenate original with new dataframes\n",
    "    return pd.concat([df] + df_list, axis=1)"
   ]
  },
  {
   "cell_type": "code",
   "execution_count": 42,
   "metadata": {},
   "outputs": [
    {
     "output_type": "execute_result",
     "data": {
      "text/plain": [
       "         mental_note  id_num                   time_in  \\\n",
       "0  # Savor Dash Data   24800  2021-04-29T22:02:00.000Z   \n",
       "1                NaN   24799  2021-04-29T21:57:00.000Z   \n",
       "2                NaN   24798  2021-04-29T21:39:00.000Z   \n",
       "3                NaN   24797  2021-04-29T21:29:00.000Z   \n",
       "4                NaN   24796  2021-04-29T21:17:00.000Z   \n",
       "\n",
       "                   modified                   created           name  \\\n",
       "0  2021-04-29T22:05:23.000Z  2021-04-29T22:04:47.000Z  24800-Sta-Cod   \n",
       "1  2021-04-29T21:58:15.000Z  2021-04-29T21:58:06.000Z  24799-Sta-Wor   \n",
       "2  2021-04-29T21:38:47.000Z  2021-04-29T21:38:10.000Z  24798-Sit-Med   \n",
       "3  2021-04-29T21:38:31.000Z  2021-04-29T21:37:53.000Z  24797-Foo-Thi   \n",
       "4  2021-04-29T21:37:52.000Z  2021-04-29T21:16:56.000Z  24796-Sna-Thi   \n",
       "\n",
       "                  id                                      physical_note  \\\n",
       "0  rec09tUYvKhC92ZSg                                                NaN   \n",
       "1  recyGC5jmggOHxBWm                                                NaN   \n",
       "2  recxhjn6VKc2HGZbG                                NSDR / mindfulness.   \n",
       "3  rec850VNGKKThCWT5                        Pistachios and green drink.   \n",
       "4  recufmGBkq9KCJmxn  Some almonds, trail mix and chicharrones in th...   \n",
       "\n",
       "            mental_0 mental_1         physical_0         physical_1  \\\n",
       "0  recknqtgREfJulPie      NaN  recpSKLyNVgI0wdjf                NaN   \n",
       "1  recV7J7xUq1TS4UaA      NaN  recpSKLyNVgI0wdjf                NaN   \n",
       "2  rec2wZ0LboOW8fyAy      NaN  recUCSBNFwpBrnDGb                NaN   \n",
       "3  recx5VEAjXKeYLjZF      NaN  rec3AnOkXgiPoni7u  recpg577q4IdfjJZi   \n",
       "4  recx5VEAjXKeYLjZF      NaN  recpg577q4IdfjJZi                NaN   \n",
       "\n",
       "               tag_0              tag_1 tag_2 tag_3           subloc_0  \\\n",
       "0  receKaJGCFL7i4a4g  recyPGKraDv5I0YQZ   NaN   NaN  rec0jakijbv2aJ2lj   \n",
       "1                NaN                NaN   NaN   NaN  rec0jakijbv2aJ2lj   \n",
       "2                NaN                NaN   NaN   NaN  rec0jakijbv2aJ2lj   \n",
       "3                NaN                NaN   NaN   NaN  reclkHtEN4C6wr4dv   \n",
       "4                NaN                NaN   NaN   NaN  recWNsckWelXKeR7d   \n",
       "\n",
       "  moment_log_0 who_0 who_1 who_2 dose_0 dose_1 dose_2 dose_3  \\\n",
       "0          NaN   NaN   NaN   NaN    NaN    NaN    NaN    NaN   \n",
       "1          NaN   NaN   NaN   NaN    NaN    NaN    NaN    NaN   \n",
       "2          NaN   NaN   NaN   NaN    NaN    NaN    NaN    NaN   \n",
       "3          NaN   NaN   NaN   NaN    NaN    NaN    NaN    NaN   \n",
       "4          NaN   NaN   NaN   NaN    NaN    NaN    NaN    NaN   \n",
       "\n",
       "           session_0 project_location_0  \n",
       "0  recXt8s9a9fTRTbLf  recidY4IXWvLNWOp0  \n",
       "1  recXt8s9a9fTRTbLf  recidY4IXWvLNWOp0  \n",
       "2  recXt8s9a9fTRTbLf  recidY4IXWvLNWOp0  \n",
       "3  recXt8s9a9fTRTbLf  recidY4IXWvLNWOp0  \n",
       "4  recXt8s9a9fTRTbLf  recidY4IXWvLNWOp0  "
      ],
      "text/html": "<div>\n<style scoped>\n    .dataframe tbody tr th:only-of-type {\n        vertical-align: middle;\n    }\n\n    .dataframe tbody tr th {\n        vertical-align: top;\n    }\n\n    .dataframe thead th {\n        text-align: right;\n    }\n</style>\n<table border=\"1\" class=\"dataframe\">\n  <thead>\n    <tr style=\"text-align: right;\">\n      <th></th>\n      <th>mental_note</th>\n      <th>id_num</th>\n      <th>time_in</th>\n      <th>modified</th>\n      <th>created</th>\n      <th>name</th>\n      <th>id</th>\n      <th>physical_note</th>\n      <th>mental_0</th>\n      <th>mental_1</th>\n      <th>physical_0</th>\n      <th>physical_1</th>\n      <th>tag_0</th>\n      <th>tag_1</th>\n      <th>tag_2</th>\n      <th>tag_3</th>\n      <th>subloc_0</th>\n      <th>moment_log_0</th>\n      <th>who_0</th>\n      <th>who_1</th>\n      <th>who_2</th>\n      <th>dose_0</th>\n      <th>dose_1</th>\n      <th>dose_2</th>\n      <th>dose_3</th>\n      <th>session_0</th>\n      <th>project_location_0</th>\n    </tr>\n  </thead>\n  <tbody>\n    <tr>\n      <th>0</th>\n      <td># Savor Dash Data</td>\n      <td>24800</td>\n      <td>2021-04-29T22:02:00.000Z</td>\n      <td>2021-04-29T22:05:23.000Z</td>\n      <td>2021-04-29T22:04:47.000Z</td>\n      <td>24800-Sta-Cod</td>\n      <td>rec09tUYvKhC92ZSg</td>\n      <td>NaN</td>\n      <td>recknqtgREfJulPie</td>\n      <td>NaN</td>\n      <td>recpSKLyNVgI0wdjf</td>\n      <td>NaN</td>\n      <td>receKaJGCFL7i4a4g</td>\n      <td>recyPGKraDv5I0YQZ</td>\n      <td>NaN</td>\n      <td>NaN</td>\n      <td>rec0jakijbv2aJ2lj</td>\n      <td>NaN</td>\n      <td>NaN</td>\n      <td>NaN</td>\n      <td>NaN</td>\n      <td>NaN</td>\n      <td>NaN</td>\n      <td>NaN</td>\n      <td>NaN</td>\n      <td>recXt8s9a9fTRTbLf</td>\n      <td>recidY4IXWvLNWOp0</td>\n    </tr>\n    <tr>\n      <th>1</th>\n      <td>NaN</td>\n      <td>24799</td>\n      <td>2021-04-29T21:57:00.000Z</td>\n      <td>2021-04-29T21:58:15.000Z</td>\n      <td>2021-04-29T21:58:06.000Z</td>\n      <td>24799-Sta-Wor</td>\n      <td>recyGC5jmggOHxBWm</td>\n      <td>NaN</td>\n      <td>recV7J7xUq1TS4UaA</td>\n      <td>NaN</td>\n      <td>recpSKLyNVgI0wdjf</td>\n      <td>NaN</td>\n      <td>NaN</td>\n      <td>NaN</td>\n      <td>NaN</td>\n      <td>NaN</td>\n      <td>rec0jakijbv2aJ2lj</td>\n      <td>NaN</td>\n      <td>NaN</td>\n      <td>NaN</td>\n      <td>NaN</td>\n      <td>NaN</td>\n      <td>NaN</td>\n      <td>NaN</td>\n      <td>NaN</td>\n      <td>recXt8s9a9fTRTbLf</td>\n      <td>recidY4IXWvLNWOp0</td>\n    </tr>\n    <tr>\n      <th>2</th>\n      <td>NaN</td>\n      <td>24798</td>\n      <td>2021-04-29T21:39:00.000Z</td>\n      <td>2021-04-29T21:38:47.000Z</td>\n      <td>2021-04-29T21:38:10.000Z</td>\n      <td>24798-Sit-Med</td>\n      <td>recxhjn6VKc2HGZbG</td>\n      <td>NSDR / mindfulness.</td>\n      <td>rec2wZ0LboOW8fyAy</td>\n      <td>NaN</td>\n      <td>recUCSBNFwpBrnDGb</td>\n      <td>NaN</td>\n      <td>NaN</td>\n      <td>NaN</td>\n      <td>NaN</td>\n      <td>NaN</td>\n      <td>rec0jakijbv2aJ2lj</td>\n      <td>NaN</td>\n      <td>NaN</td>\n      <td>NaN</td>\n      <td>NaN</td>\n      <td>NaN</td>\n      <td>NaN</td>\n      <td>NaN</td>\n      <td>NaN</td>\n      <td>recXt8s9a9fTRTbLf</td>\n      <td>recidY4IXWvLNWOp0</td>\n    </tr>\n    <tr>\n      <th>3</th>\n      <td>NaN</td>\n      <td>24797</td>\n      <td>2021-04-29T21:29:00.000Z</td>\n      <td>2021-04-29T21:38:31.000Z</td>\n      <td>2021-04-29T21:37:53.000Z</td>\n      <td>24797-Foo-Thi</td>\n      <td>rec850VNGKKThCWT5</td>\n      <td>Pistachios and green drink.</td>\n      <td>recx5VEAjXKeYLjZF</td>\n      <td>NaN</td>\n      <td>rec3AnOkXgiPoni7u</td>\n      <td>recpg577q4IdfjJZi</td>\n      <td>NaN</td>\n      <td>NaN</td>\n      <td>NaN</td>\n      <td>NaN</td>\n      <td>reclkHtEN4C6wr4dv</td>\n      <td>NaN</td>\n      <td>NaN</td>\n      <td>NaN</td>\n      <td>NaN</td>\n      <td>NaN</td>\n      <td>NaN</td>\n      <td>NaN</td>\n      <td>NaN</td>\n      <td>recXt8s9a9fTRTbLf</td>\n      <td>recidY4IXWvLNWOp0</td>\n    </tr>\n    <tr>\n      <th>4</th>\n      <td>NaN</td>\n      <td>24796</td>\n      <td>2021-04-29T21:17:00.000Z</td>\n      <td>2021-04-29T21:37:52.000Z</td>\n      <td>2021-04-29T21:16:56.000Z</td>\n      <td>24796-Sna-Thi</td>\n      <td>recufmGBkq9KCJmxn</td>\n      <td>Some almonds, trail mix and chicharrones in th...</td>\n      <td>recx5VEAjXKeYLjZF</td>\n      <td>NaN</td>\n      <td>recpg577q4IdfjJZi</td>\n      <td>NaN</td>\n      <td>NaN</td>\n      <td>NaN</td>\n      <td>NaN</td>\n      <td>NaN</td>\n      <td>recWNsckWelXKeR7d</td>\n      <td>NaN</td>\n      <td>NaN</td>\n      <td>NaN</td>\n      <td>NaN</td>\n      <td>NaN</td>\n      <td>NaN</td>\n      <td>NaN</td>\n      <td>NaN</td>\n      <td>recXt8s9a9fTRTbLf</td>\n      <td>recidY4IXWvLNWOp0</td>\n    </tr>\n  </tbody>\n</table>\n</div>"
     },
     "metadata": {},
     "execution_count": 42
    }
   ],
   "source": [
    "# Expand all relation columns\n",
    "relations = [\n",
    "    \"mental\",\n",
    "    \"physical\",\n",
    "    \"tag\",\n",
    "    \"subloc\",\n",
    "    \"moment_log\",\n",
    "    \"who\",\n",
    "    \"dose\",\n",
    "    \"session\",\n",
    "    \"project_location\",\n",
    "]\n",
    "\n",
    "df2_engage = expand_list_cols(df1_engage, relations)\n",
    "df2_engage.head()"
   ]
  },
  {
   "cell_type": "code",
   "execution_count": null,
   "metadata": {},
   "outputs": [],
   "source": []
  }
 ]
}
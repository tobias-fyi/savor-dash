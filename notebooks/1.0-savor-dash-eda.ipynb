{
 "metadata": {
  "language_info": {
   "codemirror_mode": {
    "name": "ipython",
    "version": 3
   },
   "file_extension": ".py",
   "mimetype": "text/x-python",
   "name": "python",
   "nbconvert_exporter": "python",
   "pygments_lexer": "ipython3",
   "version": "3.8.5"
  },
  "orig_nbformat": 2,
  "kernelspec": {
   "name": "python385jvsc74a57bd0f7316325c726c48d8640d1370d529074b831729b5e6f1f058eda2f21c001cae2",
   "display_name": "Python 3.8.5 64-bit ('savor-dash-sdIFcimD': pipenv)"
  }
 },
 "nbformat": 4,
 "nbformat_minor": 2,
 "cells": [
  {
   "source": [
    "# Savor Data\n",
    "\n",
    "> Extract, transform, explore"
   ],
   "cell_type": "markdown",
   "metadata": {}
  },
  {
   "source": [
    "---\n",
    "\n",
    "## Setup"
   ],
   "cell_type": "markdown",
   "metadata": {}
  },
  {
   "cell_type": "code",
   "execution_count": 1,
   "metadata": {},
   "outputs": [],
   "source": [
    "# === Imports and config === #\n",
    "from os import environ\n",
    "from pprint import pprint\n",
    "from pathlib import Path\n",
    "\n",
    "from airtable import Airtable\n",
    "from dotenv import load_dotenv\n",
    "import pandas as pd\n",
    "import numpy as np\n",
    "\n",
    "# Plotly imports\n",
    "import plotly.express as px\n",
    "import plotly.figure_factory as ff\n",
    "import plotly.graph_objs as go\n",
    "import plotly.io as pio\n",
    "\n",
    "# Set plotly default color theme to dark mode\n",
    "pio.templates.default = \"plotly_dark\"\n",
    "\n",
    "# # Jupyter + Plotly imports (if running in Colab or Visual Studio Code, comment out the 2 lines below)\n",
    "# import plotly.offline as pyo\n",
    "# pyo.init_notebook_mode()  # Set plotly to notebook mode / work offline\n",
    "\n",
    "# Ignore this Numpy warning when using Plotly Express:\n",
    "# FutureWarning: Method .ptp is deprecated and will be removed in a future version. Use numpy.ptp instead.\n",
    "# import warnings\n",
    "# warnings.filterwarnings(action='ignore', category=FutureWarning, module='numpy'\n",
    "\n",
    "pd.options.display.max_rows = 100\n",
    "pd.options.display.max_columns = 50\n",
    "\n",
    "# Airtable authentication\n",
    "load_dotenv(dotenv_path=\".env\")\n",
    "base_key = environ.get(\"AIRTABLE_BASE_KEY\")\n",
    "api_key = environ.get(\"AIRTABLE_API_KEY\")"
   ]
  },
  {
   "source": [
    "## Pipelines\n",
    "\n",
    "- Extract + transform from \"dimension\" tables to match up related records' primary keys\n",
    "- Extract + transform time-series data from `engage_log` into dataframe"
   ],
   "cell_type": "markdown",
   "metadata": {}
  },
  {
   "source": [
    "### Relations"
   ],
   "cell_type": "markdown",
   "metadata": {}
  },
  {
   "cell_type": "code",
   "execution_count": 4,
   "metadata": {},
   "outputs": [],
   "source": [
    "# Related tables to match up via ID\n",
    "tables_and_fields = {\n",
    "    \"mental\": [\"name\"],\n",
    "    \"physical\": [\"name\"],\n",
    "    \"dose\": [\"name\", \"supp\", \"amt\", \"unit\"],\n",
    "    \"who\": [\"name\"],\n",
    "    \"location\": [\"name\", \"location\", \"city\", \"state\"],\n",
    "    \"subloc\": [\"name\"],\n",
    "    \"tag\": [\"name\"],\n",
    "}\n",
    "\n",
    "tuple_data = [  # Array of tuples to be used as multi-index\n",
    "    # (\"physical\", \"recAS99RkAJBoTCgq\")\n",
    "]\n",
    "series_data = [  # Series data to be multi-indexed\n",
    "    # \"Surf\",\n",
    "]\n",
    "\n",
    "# Loop through tables to retrieve records and save in array\n",
    "for table in tables_and_fields:\n",
    "    airtable = Airtable(  # Connect to table\n",
    "        base_key,\n",
    "        table,\n",
    "        api_key=api_key\n",
    "    )\n",
    "    records = airtable.get_all(fields=tables_and_fields[table])  # Retrieve records\n",
    "    for record in records:  # Transform and save records to arrays\n",
    "        tuple_data.append((table, record[\"id\"]))\n",
    "        series_data.append(record[\"fields\"][\"name\"])\n",
    "\n",
    "# Create multi-index object\n",
    "multi_index = pd.MultiIndex.from_tuples(tuple_data, names=[\"table\", \"id\"])\n",
    "# Build the multi-index series that will be used to look up record names by id\n",
    "lookup = pd.Series(series_data, index=multi_index)"
   ]
  },
  {
   "cell_type": "code",
   "execution_count": 6,
   "metadata": {},
   "outputs": [
    {
     "output_type": "execute_result",
     "data": {
      "text/plain": [
       "table   id               \n",
       "mental  rec0GRGSEJXCTU5od                Learn\n",
       "        rec2wZ0LboOW8fyAy             Meditate\n",
       "        rec5yx2uo7ZIXuqzw         Troubleshoot\n",
       "        rec6RxldfHLJ2lIEQ                Solve\n",
       "        rec7OsLdgXUN9XczF    Data manipulation\n",
       "                                   ...        \n",
       "tag     recyPGKraDv5I0YQZ               python\n",
       "        recyYB2qZVKDYAADk               sojorn\n",
       "        recykV5c2g43Nluq8             wishlist\n",
       "        recywkIrd3W4Pm8B6          trash_panda\n",
       "        reczTzMYl02Xu8OqS                  nlp\n",
       "Length: 645, dtype: object"
      ]
     },
     "metadata": {},
     "execution_count": 6
    }
   ],
   "source": [
    "lookup"
   ]
  },
  {
   "cell_type": "code",
   "execution_count": 10,
   "metadata": {},
   "outputs": [
    {
     "output_type": "execute_result",
     "data": {
      "text/plain": [
       "'Code'"
      ]
     },
     "metadata": {},
     "execution_count": 10
    }
   ],
   "source": [
    "# Confirm it worked by looking up the name for an ID\n",
    "lookup[\"mental\"][\"recknqtgREfJulPie\"]\n",
    "# lookup[\"mental\", \"recknqtgREfJulPie\"]"
   ]
  },
  {
   "source": [
    "### Time Series"
   ],
   "cell_type": "markdown",
   "metadata": {}
  },
  {
   "cell_type": "code",
   "execution_count": null,
   "metadata": {},
   "outputs": [],
   "source": [
    "# Create connection to engage_log table\n",
    "engage_log = Airtable(base_key, \"engage_log\", api_key=api_key)"
   ]
  },
  {
   "cell_type": "code",
   "execution_count": null,
   "metadata": {},
   "outputs": [],
   "source": [
    "# TODO: Retrieve all data from the past 7 days\n",
    "for page in engage_log.get_iter(sort=[\"-time_in\"]):\n",
    "    for record in page:"
   ]
  }
 ]
}
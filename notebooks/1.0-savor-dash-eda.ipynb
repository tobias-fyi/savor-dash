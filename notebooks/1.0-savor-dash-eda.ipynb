{
 "metadata": {
  "language_info": {
   "codemirror_mode": {
    "name": "ipython",
    "version": 3
   },
   "file_extension": ".py",
   "mimetype": "text/x-python",
   "name": "python",
   "nbconvert_exporter": "python",
   "pygments_lexer": "ipython3",
   "version": "3.8.5"
  },
  "orig_nbformat": 2,
  "kernelspec": {
   "name": "python385jvsc74a57bd0f7316325c726c48d8640d1370d529074b831729b5e6f1f058eda2f21c001cae2",
   "display_name": "Python 3.8.5 64-bit ('savor-dash': pipenv)"
  }
 },
 "nbformat": 4,
 "nbformat_minor": 2,
 "cells": [
  {
   "source": [
    "# Savor Data\n",
    "\n",
    "> Extract, transform, explore"
   ],
   "cell_type": "markdown",
   "metadata": {}
  },
  {
   "source": [
    "---\n",
    "\n",
    "## Setup"
   ],
   "cell_type": "markdown",
   "metadata": {}
  },
  {
   "cell_type": "code",
   "execution_count": 1,
   "metadata": {},
   "outputs": [],
   "source": [
    "# === Imports and config === #\n",
    "from os import environ\n",
    "from pprint import pprint\n",
    "from pathlib import Path\n",
    "\n",
    "from airtable import Airtable\n",
    "from dotenv import load_dotenv\n",
    "import pandas as pd\n",
    "import numpy as np\n",
    "\n",
    "# Plotly imports\n",
    "import plotly.express as px\n",
    "import plotly.figure_factory as ff\n",
    "import plotly.graph_objs as go\n",
    "import plotly.io as pio\n",
    "\n",
    "# Set plotly default color theme to dark mode\n",
    "pio.templates.default = \"plotly_dark\"\n",
    "\n",
    "# # Jupyter + Plotly imports (if running in Colab or Visual Studio Code, comment out the 2 lines below)\n",
    "# import plotly.offline as pyo\n",
    "# pyo.init_notebook_mode()  # Set plotly to notebook mode / work offline\n",
    "\n",
    "# Ignore this Numpy warning when using Plotly Express:\n",
    "# FutureWarning: Method .ptp is deprecated and will be removed in a future version. Use numpy.ptp instead.\n",
    "# import warnings\n",
    "# warnings.filterwarnings(action='ignore', category=FutureWarning, module='numpy'\n",
    "\n",
    "pd.options.display.max_rows = 100\n",
    "pd.options.display.max_columns = 50\n",
    "\n",
    "# Airtable authentication\n",
    "load_dotenv(dotenv_path=\".env\")\n",
    "base_key = environ.get(\"AIRTABLE_BASE_KEY\")\n",
    "api_key = environ.get(\"AIRTABLE_API_KEY\")"
   ]
  },
  {
   "source": [
    "## Pipelines\n",
    "\n",
    "- Extract + transform from \"dimension\" tables to match up related records' primary keys\n",
    "- Extract + transform time-series data from `engage_log` into dataframe"
   ],
   "cell_type": "markdown",
   "metadata": {}
  },
  {
   "source": [
    "### Relations"
   ],
   "cell_type": "markdown",
   "metadata": {}
  },
  {
   "cell_type": "code",
   "execution_count": 11,
   "metadata": {},
   "outputs": [],
   "source": [
    "def create_lookup(base_key: str, api_key: str, table_fields: dict) -> pd.Series:\n",
    "    \"\"\"Creates an ID lookup series from a set of Airtable tables.\"\"\"\n",
    "    series_index = []  # Index (id) array\n",
    "    series_data = []  # Series data\n",
    "    for table in tables_and_fields:  # Loop through tables to retrieve records and save in array\n",
    "        airtable = Airtable(base_key, table, api_key=api_key)  # Connect to table\n",
    "        records = airtable.get_all(fields=tables_and_fields[table])  # Retrieve records\n",
    "        for record in records:  # Transform and save records to arrays\n",
    "            series_index.append(record[\"id\"])\n",
    "            series_data.append(record[\"fields\"][\"name\"])\n",
    "    # Return series, indexed by ID\n",
    "    return pd.Series(series_data, index=series_index)"
   ]
  },
  {
   "cell_type": "code",
   "execution_count": 12,
   "metadata": {},
   "outputs": [
    {
     "output_type": "execute_result",
     "data": {
      "text/plain": [
       "'Code'"
      ]
     },
     "metadata": {},
     "execution_count": 12
    }
   ],
   "source": [
    "# Related tables to match up via ID\n",
    "tables_and_fields = {\n",
    "    \"mental\": [\"name\"],\n",
    "    \"physical\": [\"name\"],\n",
    "    \"dose\": [\"name\", \"supp\", \"amt\", \"unit\"],\n",
    "    \"who\": [\"name\"],\n",
    "    \"location\": [\"name\", \"location\", \"city\", \"state\"],\n",
    "    \"subloc\": [\"name\"],\n",
    "    \"tag\": [\"name\"],\n",
    "}\n",
    "\n",
    "lookup = create_lookup(base_key, api_key, tables_and_fields)\n",
    "# Confirm it worked by looking up name for id (in this ex, \"Code\")\n",
    "lookup[\"recknqtgREfJulPie\"]"
   ]
  },
  {
   "source": [
    "### Time Series"
   ],
   "cell_type": "markdown",
   "metadata": {}
  },
  {
   "cell_type": "code",
   "execution_count": 22,
   "metadata": {},
   "outputs": [],
   "source": [
    "# Create connection to engage_log table\n",
    "engage_log = Airtable(base_key, \"engage_log\", api_key=api_key)"
   ]
  },
  {
   "cell_type": "code",
   "execution_count": 44,
   "metadata": {},
   "outputs": [],
   "source": [
    "from datetime import datetime, timedelta, timezone\n",
    "\n",
    "def get_data_for_date_range(\n",
    "    conn: Airtable,\n",
    "    start: datetime,\n",
    "    end: datetime,\n",
    ") -> pd.DataFrame:\n",
    "    \"\"\"Retrieve Airtable data within the specified time range.\n",
    "    Assumes that datetimes passed are in UTC, so convert to UTC beforehand.\"\"\"\n",
    "    # Loop through pages and records within pages, checking the time_in against the range\n",
    "    # If inside range, append to list of raw data; else break from loop\n",
    "    raw_records = []\n",
    "    for page in conn.get_iter(sort=[\"-time_in\"], page_size=50):\n",
    "        # Page size of 50 = roughly # records in average day\n",
    "        for record in page:\n",
    "            # Airtable saves records in UTC\n",
    "            time_in = datetime.fromisoformat(record[\"fields\"][\"time_in\"][:-5] + \"+00:00\")\n",
    "            if time_in > end:\n",
    "                continue\n",
    "            elif time_in > start and time_in < end:\n",
    "                raw_records.append(record)\n",
    "            else:\n",
    "                break\n",
    "        else:\n",
    "            continue\n",
    "        break  # Break outer loop when inner loop is broken\n",
    "    \n",
    "    return raw_records"
   ]
  },
  {
   "cell_type": "code",
   "execution_count": 45,
   "metadata": {},
   "outputs": [],
   "source": [
    "import dateutil\n",
    "\n",
    "# Create start and end UTC datetimes\n",
    "mdt = dateutil.tz.gettz(\"America/Denver\")  # MDT timezone info\n",
    "# Convert the MDT date to UTC\n",
    "start = datetime(2021, 4, 26, tzinfo=mdt).astimezone(timezone.utc)\n",
    "end = datetime.now(timezone.utc) # Now, in UTC\n",
    "\n",
    "raw_records = get_data_for_date_range(engage_log, start, end)"
   ]
  },
  {
   "cell_type": "code",
   "execution_count": 46,
   "metadata": {},
   "outputs": [
    {
     "output_type": "execute_result",
     "data": {
      "text/plain": [
       "[{'id': 'recaB51Lcj0HUVGYR',\n",
       "  'fields': {'mental_note': '# Savor Dash',\n",
       "   'id_num': 24736,\n",
       "   'session': ['rec6zLHF5M5jrYgbF'],\n",
       "   'subloc': ['rec0jakijbv2aJ2lj'],\n",
       "   'tags': ['recyPGKraDv5I0YQZ', 'receKaJGCFL7i4a4g'],\n",
       "   'time_in': '2021-04-28T21:04:00.000Z',\n",
       "   'mental': ['recknqtgREfJulPie'],\n",
       "   'physical': ['recUCSBNFwpBrnDGb', 'recpSKLyNVgI0wdjf'],\n",
       "   'modified': '2021-04-28T21:03:35.000Z',\n",
       "   'created': '2021-04-28T21:03:11.000Z',\n",
       "   'duration': {'specialValue': 'NaN'},\n",
       "   'project_location': ['recidY4IXWvLNWOp0'],\n",
       "   'name': '24736-Sit-Cod'},\n",
       "  'createdTime': '2021-04-28T21:03:11.000Z'},\n",
       " {'id': 'recNt5OneZpvRyqmg',\n",
       "  'fields': {'id_num': 24735,\n",
       "   'session': ['rec6zLHF5M5jrYgbF'],\n",
       "   'subloc': ['rec0jakijbv2aJ2lj'],\n",
       "   'time_in': '2021-04-28T21:00:00.000Z',\n",
       "   'mental': ['recV7J7xUq1TS4UaA'],\n",
       "   'physical': ['recUCSBNFwpBrnDGb'],\n",
       "   'modified': '2021-04-28T21:03:07.000Z',\n",
       "   'created': '2021-04-28T21:03:00.000Z',\n",
       "   'duration': {'specialValue': 'NaN'},\n",
       "   'project_location': ['recidY4IXWvLNWOp0'],\n",
       "   'name': '24735-Sit-Wor'},\n",
       "  'createdTime': '2021-04-28T21:03:00.000Z'}]"
      ]
     },
     "metadata": {},
     "execution_count": 46
    }
   ],
   "source": [
    "raw_records[:2]"
   ]
  },
  {
   "cell_type": "code",
   "execution_count": null,
   "metadata": {},
   "outputs": [],
   "source": []
  }
 ]
}
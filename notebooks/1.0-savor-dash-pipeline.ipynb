{
 "metadata": {
  "language_info": {
   "codemirror_mode": {
    "name": "ipython",
    "version": 3
   },
   "file_extension": ".py",
   "mimetype": "text/x-python",
   "name": "python",
   "nbconvert_exporter": "python",
   "pygments_lexer": "ipython3",
   "version": "3.8.5"
  },
  "orig_nbformat": 2,
  "kernelspec": {
   "name": "python385jvsc74a57bd0f7316325c726c48d8640d1370d529074b831729b5e6f1f058eda2f21c001cae2",
   "display_name": "Python 3.8.5 64-bit ('savor-dash': pipenv)"
  }
 },
 "nbformat": 4,
 "nbformat_minor": 2,
 "cells": [
  {
   "source": [
    "# Savor Data\n",
    "\n",
    "> Extract, transform, explore\n",
    "\n",
    "Pipeline for retrieving data from the Airtable API and transforming it into something useful."
   ],
   "cell_type": "markdown",
   "metadata": {}
  },
  {
   "source": [
    "---\n",
    "\n",
    "## Setup"
   ],
   "cell_type": "markdown",
   "metadata": {}
  },
  {
   "cell_type": "code",
   "execution_count": 1,
   "metadata": {},
   "outputs": [],
   "source": [
    "# === Imports and config === #\n",
    "from os import environ\n",
    "from pprint import pprint\n",
    "from pathlib import Path\n",
    "from typing import List\n",
    "\n",
    "from airtable import Airtable\n",
    "from dotenv import load_dotenv\n",
    "import pandas as pd\n",
    "import numpy as np\n",
    "\n",
    "# Plotly imports\n",
    "import plotly.express as px\n",
    "import plotly.figure_factory as ff\n",
    "import plotly.graph_objs as go\n",
    "import plotly.io as pio\n",
    "\n",
    "# Set plotly default color theme to dark mode\n",
    "pio.templates.default = \"plotly_dark\"\n",
    "\n",
    "pd.options.display.max_rows = 100\n",
    "pd.options.display.max_columns = 50\n",
    "\n",
    "# Airtable authentication\n",
    "load_dotenv(dotenv_path=\".env\")\n",
    "base_key = environ.get(\"AIRTABLE_BASE_KEY\")\n",
    "api_key = environ.get(\"AIRTABLE_API_KEY\")"
   ]
  },
  {
   "source": [
    "---\n",
    "\n",
    "## Pipeline\n",
    "\n",
    "- [x] Extract + transform from \"dimension\" tables to match up related records' primary keys\n",
    "- [x] Extract time-series data from `engage_log` into dataframe\n",
    "- [ ] Transform / process the `engage_log` data to make ready for analysis"
   ],
   "cell_type": "markdown",
   "metadata": {}
  },
  {
   "source": [
    "### Relations"
   ],
   "cell_type": "markdown",
   "metadata": {}
  },
  {
   "cell_type": "code",
   "execution_count": 2,
   "metadata": {},
   "outputs": [],
   "source": [
    "def create_lookup(base_key: str, api_key: str, table_fields: dict) -> pd.Series:\n",
    "    \"\"\"Creates an ID lookup series from a set of Airtable tables.\"\"\"\n",
    "    series_index = []  # Index (id) array\n",
    "    series_data = []  # Series data\n",
    "    for table in tables_and_fields:  # Loop through tables to retrieve records and save in array\n",
    "        airtable = Airtable(base_key, table, api_key=api_key)  # Connect to table\n",
    "        records = airtable.get_all(fields=tables_and_fields[table])  # Retrieve records\n",
    "        for record in records:  # Transform and save records to arrays\n",
    "            series_index.append(record[\"id\"])\n",
    "            series_data.append(record[\"fields\"][\"name\"])\n",
    "    # Return series, indexed by ID\n",
    "    return pd.Series(series_data, index=series_index)"
   ]
  },
  {
   "cell_type": "code",
   "execution_count": 3,
   "metadata": {},
   "outputs": [
    {
     "output_type": "execute_result",
     "data": {
      "text/plain": [
       "'Code'"
      ]
     },
     "metadata": {},
     "execution_count": 3
    }
   ],
   "source": [
    "# Related tables to match up via ID\n",
    "tables_and_fields = {\n",
    "    \"mental\": [\"name\"],\n",
    "    \"physical\": [\"name\"],\n",
    "    \"tag\": [\"name\"],\n",
    "    \"who\": [\"name\"],\n",
    "    \"dose\": [\"name\", \"supp\", \"amt\", \"unit\"],\n",
    "    \"location\": [\"name\", \"location\", \"city\", \"state\"],\n",
    "    \"subloc\": [\"name\"],\n",
    "}\n",
    "\n",
    "lookup = create_lookup(base_key, api_key, tables_and_fields)\n",
    "# Confirm it worked by looking up name for id (in this ex, \"Code\")\n",
    "lookup[\"recknqtgREfJulPie\"]"
   ]
  },
  {
   "cell_type": "code",
   "execution_count": null,
   "metadata": {},
   "outputs": [],
   "source": [
    "# TODO: Create separate dataframes for related tables that hold additional info (dose, location)"
   ]
  },
  {
   "source": [
    "### Time Series DataFrame\n",
    "\n",
    "The data comes out of the API like this:\n",
    "\n",
    "```py\n",
    "[{'id': 'rec09tUYvKhC92ZSg',\n",
    "  'fields': {'id_num': 24800,\n",
    "   'session': ['recXt8s9a9fTRTbLf'],\n",
    "   'name': '24800-Sta-Cod',\n",
    "   'modified': '2021-04-29T22:05:23.000Z',\n",
    "   'created': '2021-04-29T22:04:47.000Z',\n",
    "   'project_location': ['recidY4IXWvLNWOp0'],\n",
    "   'time_in': '2021-04-29T22:02:00.000Z',\n",
    "   'mental': ['recknqtgREfJulPie'],\n",
    "   'physical': ['recpSKLyNVgI0wdjf'],\n",
    "   'tag': ['receKaJGCFL7i4a4g', 'recyPGKraDv5I0YQZ'],\n",
    "   'subloc': ['rec0jakijbv2aJ2lj'],\n",
    "   'mental_note': '# Savor Dash Data'},\n",
    "  'createdTime': '2021-04-29T22:04:47.000Z'},\n",
    " {'id': 'recyGC5jmggOHxBWm',\n",
    "  'fields': {'id_num': 24799,\n",
    "   'session': ['recXt8s9a9fTRTbLf'],\n",
    "   'name': '24799-Sta-Wor',\n",
    "   'modified': '2021-04-29T21:58:15.000Z',\n",
    "   'created': '2021-04-29T21:58:06.000Z',\n",
    "   'project_location': ['recidY4IXWvLNWOp0'],\n",
    "   'time_in': '2021-04-29T21:57:00.000Z',\n",
    "   'mental': ['recV7J7xUq1TS4UaA'],\n",
    "   'physical': ['recpSKLyNVgI0wdjf'],\n",
    "   'subloc': ['rec0jakijbv2aJ2lj']},\n",
    "  'createdTime': '2021-04-29T21:58:06.000Z'}]\n",
    "```\n",
    "\n",
    "And so needs to be transformed a little bit to be loaded into a DataFrame.\n",
    "\n",
    "- Put `id` and all fields onto same level – i.e. de-nest the fields\n",
    "- Convert the string IDs into their respective names"
   ],
   "cell_type": "markdown",
   "metadata": {}
  },
  {
   "cell_type": "code",
   "execution_count": 55,
   "metadata": {},
   "outputs": [],
   "source": [
    "from datetime import datetime, timezone\n",
    "\n",
    "def get_data_for_date_range(start: datetime, end: datetime, conn: Airtable, lookup: pd.Series, relations: List[str]) -> pd.DataFrame:\n",
    "    \"\"\"Retrieve Airtable data within the specified time range.\n",
    "    Assumes that datetimes passed are in UTC, so convert to UTC beforehand.\n",
    "    \"\"\"\n",
    "    # Loop through pages and records within pages, checking the time_in against the range\n",
    "    records = []\n",
    "    for page in conn.get_iter(sort=[\"-time_in\"], page_size=50):\n",
    "        # Page size of 50 = roughly # records in average day\n",
    "        for record in page:\n",
    "            # Airtable saves records in UTC\n",
    "            time_in = datetime.fromisoformat(record[\"fields\"][\"time_in\"][:-5] + \"+00:00\")\n",
    "            # If inside range, append to list of raw data; else break from loop\n",
    "            if time_in > end:\n",
    "                continue\n",
    "            elif time_in > start and time_in < end:\n",
    "                # Extract id and fields into flat dictionary\n",
    "                re_dict = record[\"fields\"]\n",
    "                re_dict[\"id\"] = record[\"id\"]\n",
    "\n",
    "                # Remove columns not needed for current analysis\n",
    "                for c in [\"id_num\", \"name\", \"created\", \"modified\"]:\n",
    "                    del re_dict[c]\n",
    "\n",
    "                # Convert timestamps into format usable by pandas (and into mountain time, for now)\n",
    "                # TODO: convert to local time based on location.state\n",
    "                re_dict[\"time_in\"] = datetime.fromisoformat(re_dict[\"time_in\"][:-5] + \"-06:00\")\n",
    "\n",
    "                # Convert IDs into record names via lookup (created above)\n",
    "                for rel in relations:  # Loop through list of fields relating to other tables\n",
    "                    if rel in re_dict:  # Check if reference exists in record\n",
    "                        for i, ref in enumerate(re_dict[rel]):  # Iter thru list of related records\n",
    "                            # Replace each id in list with lookup match\n",
    "                            re_dict[rel][i] = lookup[ref]\n",
    "\n",
    "                # Append this record to the running list of records\n",
    "                records.append(re_dict)\n",
    "            else:\n",
    "                break\n",
    "        else:\n",
    "            continue\n",
    "        break  # Break outer loop when inner loop is broken\n",
    "\n",
    "    # Load list of records into dataframe and return\n",
    "    return pd.DataFrame.from_records(records)"
   ]
  },
  {
   "cell_type": "code",
   "execution_count": 6,
   "metadata": {},
   "outputs": [],
   "source": [
    "# Create connection to engage_log table\n",
    "engage_log = Airtable(base_key, \"engage_log\", api_key=api_key)"
   ]
  },
  {
   "cell_type": "code",
   "execution_count": 56,
   "metadata": {},
   "outputs": [],
   "source": [
    "import dateutil\n",
    "\n",
    "# Create start and end UTC datetimes\n",
    "mdt = dateutil.tz.gettz(\"America/Denver\")  # MDT timezone info\n",
    "# Convert the MDT date to UTC\n",
    "start = datetime(2021, 4, 26, tzinfo=mdt).astimezone(timezone.utc)\n",
    "end = datetime.now(timezone.utc) # Now/today, in UTC\n",
    "\n",
    "relations = [  # List of tables to convert via lookup\n",
    "    \"mental\",\n",
    "    \"physical\",\n",
    "    \"tag\",\n",
    "    \"who\",\n",
    "    \"subloc\",\n",
    "]\n",
    "\n",
    "# Retrieve records for date range\n",
    "df1_engage = get_data_for_date_range(start, end, engage_log, lookup, relations)"
   ]
  },
  {
   "cell_type": "code",
   "execution_count": 57,
   "metadata": {},
   "outputs": [
    {
     "output_type": "execute_result",
     "data": {
      "text/plain": [
       "                                         mental_note              session  \\\n",
       "0                              # More Savor Building  [recgLfVD1QYzOBBCH]   \n",
       "1                                                NaN  [recgLfVD1QYzOBBCH]   \n",
       "2                                                NaN  [recgLfVD1QYzOBBCH]   \n",
       "3  Watched some of Marcus' boring hotel tour vide...  [recgLfVD1QYzOBBCH]   \n",
       "4                                                NaN  [recgLfVD1QYzOBBCH]   \n",
       "\n",
       "          subloc                       tag                   time_in  \\\n",
       "0       [Studio]  [savor, python, jupyter] 2021-05-02 03:05:00-06:00   \n",
       "1       [Studio]                       NaN 2021-05-02 03:00:00-06:00   \n",
       "2       [Studio]                       NaN 2021-05-02 02:50:00-06:00   \n",
       "3  [Living Room]                 [youtube] 2021-05-02 02:36:00-06:00   \n",
       "4      [Kitchen]                       NaN 2021-05-02 02:33:00-06:00   \n",
       "\n",
       "       mental     physical     project_location                 id  \\\n",
       "0      [Code]      [Stand]  [recidY4IXWvLNWOp0]  recYUJGCj6KjFf8SY   \n",
       "1     [Think]        [Cap]  [recidY4IXWvLNWOp0]  rec5wpcGPyH3HOa4u   \n",
       "2  [Workflow]      [Stand]  [recidY4IXWvLNWOp0]  rec1JgDA1NwUoSgU1   \n",
       "3     [Watch]      [Snack]  [recidY4IXWvLNWOp0]  rec2H3q3ihfPrc44d   \n",
       "4     [Think]  [Food prep]  [recidY4IXWvLNWOp0]  reci2c3QLq6mL2q1Y   \n",
       "\n",
       "                  dose                                      physical_note  \\\n",
       "0                  NaN                                                NaN   \n",
       "1  [recqH7cYgoNWds9rc]                                                NaN   \n",
       "2                  NaN                                                NaN   \n",
       "3                  NaN  Ate a chocolate chip cookie with ice cream and...   \n",
       "4                  NaN  Decided to send it with a cookie, then added i...   \n",
       "\n",
       "                 who moment_log location  \n",
       "0                NaN        NaN      NaN  \n",
       "1                NaN        NaN      NaN  \n",
       "2                NaN        NaN      NaN  \n",
       "3  [Marcus Ahlfeldt]        NaN      NaN  \n",
       "4                NaN        NaN      NaN  "
      ],
      "text/html": "<div>\n<style scoped>\n    .dataframe tbody tr th:only-of-type {\n        vertical-align: middle;\n    }\n\n    .dataframe tbody tr th {\n        vertical-align: top;\n    }\n\n    .dataframe thead th {\n        text-align: right;\n    }\n</style>\n<table border=\"1\" class=\"dataframe\">\n  <thead>\n    <tr style=\"text-align: right;\">\n      <th></th>\n      <th>mental_note</th>\n      <th>session</th>\n      <th>subloc</th>\n      <th>tag</th>\n      <th>time_in</th>\n      <th>mental</th>\n      <th>physical</th>\n      <th>project_location</th>\n      <th>id</th>\n      <th>dose</th>\n      <th>physical_note</th>\n      <th>who</th>\n      <th>moment_log</th>\n      <th>location</th>\n    </tr>\n  </thead>\n  <tbody>\n    <tr>\n      <th>0</th>\n      <td># More Savor Building</td>\n      <td>[recgLfVD1QYzOBBCH]</td>\n      <td>[Studio]</td>\n      <td>[savor, python, jupyter]</td>\n      <td>2021-05-02 03:05:00-06:00</td>\n      <td>[Code]</td>\n      <td>[Stand]</td>\n      <td>[recidY4IXWvLNWOp0]</td>\n      <td>recYUJGCj6KjFf8SY</td>\n      <td>NaN</td>\n      <td>NaN</td>\n      <td>NaN</td>\n      <td>NaN</td>\n      <td>NaN</td>\n    </tr>\n    <tr>\n      <th>1</th>\n      <td>NaN</td>\n      <td>[recgLfVD1QYzOBBCH]</td>\n      <td>[Studio]</td>\n      <td>NaN</td>\n      <td>2021-05-02 03:00:00-06:00</td>\n      <td>[Think]</td>\n      <td>[Cap]</td>\n      <td>[recidY4IXWvLNWOp0]</td>\n      <td>rec5wpcGPyH3HOa4u</td>\n      <td>[recqH7cYgoNWds9rc]</td>\n      <td>NaN</td>\n      <td>NaN</td>\n      <td>NaN</td>\n      <td>NaN</td>\n    </tr>\n    <tr>\n      <th>2</th>\n      <td>NaN</td>\n      <td>[recgLfVD1QYzOBBCH]</td>\n      <td>[Studio]</td>\n      <td>NaN</td>\n      <td>2021-05-02 02:50:00-06:00</td>\n      <td>[Workflow]</td>\n      <td>[Stand]</td>\n      <td>[recidY4IXWvLNWOp0]</td>\n      <td>rec1JgDA1NwUoSgU1</td>\n      <td>NaN</td>\n      <td>NaN</td>\n      <td>NaN</td>\n      <td>NaN</td>\n      <td>NaN</td>\n    </tr>\n    <tr>\n      <th>3</th>\n      <td>Watched some of Marcus' boring hotel tour vide...</td>\n      <td>[recgLfVD1QYzOBBCH]</td>\n      <td>[Living Room]</td>\n      <td>[youtube]</td>\n      <td>2021-05-02 02:36:00-06:00</td>\n      <td>[Watch]</td>\n      <td>[Snack]</td>\n      <td>[recidY4IXWvLNWOp0]</td>\n      <td>rec2H3q3ihfPrc44d</td>\n      <td>NaN</td>\n      <td>Ate a chocolate chip cookie with ice cream and...</td>\n      <td>[Marcus Ahlfeldt]</td>\n      <td>NaN</td>\n      <td>NaN</td>\n    </tr>\n    <tr>\n      <th>4</th>\n      <td>NaN</td>\n      <td>[recgLfVD1QYzOBBCH]</td>\n      <td>[Kitchen]</td>\n      <td>NaN</td>\n      <td>2021-05-02 02:33:00-06:00</td>\n      <td>[Think]</td>\n      <td>[Food prep]</td>\n      <td>[recidY4IXWvLNWOp0]</td>\n      <td>reci2c3QLq6mL2q1Y</td>\n      <td>NaN</td>\n      <td>Decided to send it with a cookie, then added i...</td>\n      <td>NaN</td>\n      <td>NaN</td>\n      <td>NaN</td>\n    </tr>\n  </tbody>\n</table>\n</div>"
     },
     "metadata": {},
     "execution_count": 57
    }
   ],
   "source": [
    "df1_engage.head()"
   ]
  },
  {
   "source": [
    "### Calculating Durations\n",
    "\n",
    "The first set of analyses I want to do with this data (for the dashboard) will revolve around the amount of time spent on various activities. Therefore, I'll need to calculate the duration of each one. I'm going to do it in this pipeline step so that the calculation doesn't have to run on the fly, which would likely slow things down a bit.\n",
    "\n",
    "The pandas shift method will be used to create a new `time_out` column that will be the values of `time_in` shifted down one row – down because it's sorted by `time_in`, descending. With a `time_in` and `time_out` for each row, the duration can be calculated by taking the difference of the two."
   ],
   "cell_type": "markdown",
   "metadata": {}
  },
  {
   "cell_type": "code",
   "execution_count": 65,
   "metadata": {},
   "outputs": [
    {
     "output_type": "execute_result",
     "data": {
      "text/plain": [
       "                                         mental_note              session  \\\n",
       "0                              # More Savor Building  [recgLfVD1QYzOBBCH]   \n",
       "1                                                NaN  [recgLfVD1QYzOBBCH]   \n",
       "2                                                NaN  [recgLfVD1QYzOBBCH]   \n",
       "3  Watched some of Marcus' boring hotel tour vide...  [recgLfVD1QYzOBBCH]   \n",
       "4                                                NaN  [recgLfVD1QYzOBBCH]   \n",
       "\n",
       "          subloc                       tag                   time_in  \\\n",
       "0       [Studio]  [savor, python, jupyter] 2021-05-02 03:05:00-06:00   \n",
       "1       [Studio]                       NaN 2021-05-02 03:00:00-06:00   \n",
       "2       [Studio]                       NaN 2021-05-02 02:50:00-06:00   \n",
       "3  [Living Room]                 [youtube] 2021-05-02 02:36:00-06:00   \n",
       "4      [Kitchen]                       NaN 2021-05-02 02:33:00-06:00   \n",
       "\n",
       "       mental     physical     project_location                 id  \\\n",
       "0      [Code]      [Stand]  [recidY4IXWvLNWOp0]  recYUJGCj6KjFf8SY   \n",
       "1     [Think]        [Cap]  [recidY4IXWvLNWOp0]  rec5wpcGPyH3HOa4u   \n",
       "2  [Workflow]      [Stand]  [recidY4IXWvLNWOp0]  rec1JgDA1NwUoSgU1   \n",
       "3     [Watch]      [Snack]  [recidY4IXWvLNWOp0]  rec2H3q3ihfPrc44d   \n",
       "4     [Think]  [Food prep]  [recidY4IXWvLNWOp0]  reci2c3QLq6mL2q1Y   \n",
       "\n",
       "                  dose                                      physical_note  \\\n",
       "0                  NaN                                                NaN   \n",
       "1  [recqH7cYgoNWds9rc]                                                NaN   \n",
       "2                  NaN                                                NaN   \n",
       "3                  NaN  Ate a chocolate chip cookie with ice cream and...   \n",
       "4                  NaN  Decided to send it with a cookie, then added i...   \n",
       "\n",
       "                 who moment_log location                  time_out  \\\n",
       "0                NaN        NaN      NaN                       NaT   \n",
       "1                NaN        NaN      NaN 2021-05-02 03:05:00-06:00   \n",
       "2                NaN        NaN      NaN 2021-05-02 03:00:00-06:00   \n",
       "3  [Marcus Ahlfeldt]        NaN      NaN 2021-05-02 02:50:00-06:00   \n",
       "4                NaN        NaN      NaN 2021-05-02 02:36:00-06:00   \n",
       "\n",
       "         duration  \n",
       "0             NaT  \n",
       "1 0 days 00:05:00  \n",
       "2 0 days 00:10:00  \n",
       "3 0 days 00:14:00  \n",
       "4 0 days 00:03:00  "
      ],
      "text/html": "<div>\n<style scoped>\n    .dataframe tbody tr th:only-of-type {\n        vertical-align: middle;\n    }\n\n    .dataframe tbody tr th {\n        vertical-align: top;\n    }\n\n    .dataframe thead th {\n        text-align: right;\n    }\n</style>\n<table border=\"1\" class=\"dataframe\">\n  <thead>\n    <tr style=\"text-align: right;\">\n      <th></th>\n      <th>mental_note</th>\n      <th>session</th>\n      <th>subloc</th>\n      <th>tag</th>\n      <th>time_in</th>\n      <th>mental</th>\n      <th>physical</th>\n      <th>project_location</th>\n      <th>id</th>\n      <th>dose</th>\n      <th>physical_note</th>\n      <th>who</th>\n      <th>moment_log</th>\n      <th>location</th>\n      <th>time_out</th>\n      <th>duration</th>\n    </tr>\n  </thead>\n  <tbody>\n    <tr>\n      <th>0</th>\n      <td># More Savor Building</td>\n      <td>[recgLfVD1QYzOBBCH]</td>\n      <td>[Studio]</td>\n      <td>[savor, python, jupyter]</td>\n      <td>2021-05-02 03:05:00-06:00</td>\n      <td>[Code]</td>\n      <td>[Stand]</td>\n      <td>[recidY4IXWvLNWOp0]</td>\n      <td>recYUJGCj6KjFf8SY</td>\n      <td>NaN</td>\n      <td>NaN</td>\n      <td>NaN</td>\n      <td>NaN</td>\n      <td>NaN</td>\n      <td>NaT</td>\n      <td>NaT</td>\n    </tr>\n    <tr>\n      <th>1</th>\n      <td>NaN</td>\n      <td>[recgLfVD1QYzOBBCH]</td>\n      <td>[Studio]</td>\n      <td>NaN</td>\n      <td>2021-05-02 03:00:00-06:00</td>\n      <td>[Think]</td>\n      <td>[Cap]</td>\n      <td>[recidY4IXWvLNWOp0]</td>\n      <td>rec5wpcGPyH3HOa4u</td>\n      <td>[recqH7cYgoNWds9rc]</td>\n      <td>NaN</td>\n      <td>NaN</td>\n      <td>NaN</td>\n      <td>NaN</td>\n      <td>2021-05-02 03:05:00-06:00</td>\n      <td>0 days 00:05:00</td>\n    </tr>\n    <tr>\n      <th>2</th>\n      <td>NaN</td>\n      <td>[recgLfVD1QYzOBBCH]</td>\n      <td>[Studio]</td>\n      <td>NaN</td>\n      <td>2021-05-02 02:50:00-06:00</td>\n      <td>[Workflow]</td>\n      <td>[Stand]</td>\n      <td>[recidY4IXWvLNWOp0]</td>\n      <td>rec1JgDA1NwUoSgU1</td>\n      <td>NaN</td>\n      <td>NaN</td>\n      <td>NaN</td>\n      <td>NaN</td>\n      <td>NaN</td>\n      <td>2021-05-02 03:00:00-06:00</td>\n      <td>0 days 00:10:00</td>\n    </tr>\n    <tr>\n      <th>3</th>\n      <td>Watched some of Marcus' boring hotel tour vide...</td>\n      <td>[recgLfVD1QYzOBBCH]</td>\n      <td>[Living Room]</td>\n      <td>[youtube]</td>\n      <td>2021-05-02 02:36:00-06:00</td>\n      <td>[Watch]</td>\n      <td>[Snack]</td>\n      <td>[recidY4IXWvLNWOp0]</td>\n      <td>rec2H3q3ihfPrc44d</td>\n      <td>NaN</td>\n      <td>Ate a chocolate chip cookie with ice cream and...</td>\n      <td>[Marcus Ahlfeldt]</td>\n      <td>NaN</td>\n      <td>NaN</td>\n      <td>2021-05-02 02:50:00-06:00</td>\n      <td>0 days 00:14:00</td>\n    </tr>\n    <tr>\n      <th>4</th>\n      <td>NaN</td>\n      <td>[recgLfVD1QYzOBBCH]</td>\n      <td>[Kitchen]</td>\n      <td>NaN</td>\n      <td>2021-05-02 02:33:00-06:00</td>\n      <td>[Think]</td>\n      <td>[Food prep]</td>\n      <td>[recidY4IXWvLNWOp0]</td>\n      <td>reci2c3QLq6mL2q1Y</td>\n      <td>NaN</td>\n      <td>Decided to send it with a cookie, then added i...</td>\n      <td>NaN</td>\n      <td>NaN</td>\n      <td>NaN</td>\n      <td>2021-05-02 02:36:00-06:00</td>\n      <td>0 days 00:03:00</td>\n    </tr>\n  </tbody>\n</table>\n</div>"
     },
     "metadata": {},
     "execution_count": 65
    }
   ],
   "source": [
    "# Copy; add time_out; calculate duration column\n",
    "df2_engage = df1_engage.copy()\n",
    "df2_engage[\"time_out\"] = df2_engage[\"time_in\"].shift(periods=1)\n",
    "df2_engage[\"duration\"] = df2_engage[\"time_out\"] - df2_engage[\"time_in\"]\n",
    "df2_engage.head()"
   ]
  },
  {
   "cell_type": "code",
   "execution_count": 59,
   "metadata": {},
   "outputs": [
    {
     "output_type": "execute_result",
     "data": {
      "text/plain": [
       "mental_note                            object\n",
       "session                                object\n",
       "subloc                                 object\n",
       "tag                                    object\n",
       "time_in             datetime64[ns, UTC-06:00]\n",
       "mental                                 object\n",
       "physical                               object\n",
       "project_location                       object\n",
       "id                                     object\n",
       "dose                                   object\n",
       "physical_note                          object\n",
       "who                                    object\n",
       "moment_log                             object\n",
       "location                               object\n",
       "time_out            datetime64[ns, UTC-06:00]\n",
       "duration                      timedelta64[ns]\n",
       "dtype: object"
      ]
     },
     "metadata": {},
     "execution_count": 59
    }
   ],
   "source": [
    "df2_engage.dtypes"
   ]
  },
  {
   "source": [
    "### DatetimeIndex\n",
    "\n",
    "As the basic analysis of this data will be aggregating durations for various activities and time periods, I will index the data by `time_in`. This way, it's easy to group and aggregate using time periods directly – e.g. group by time-aware week: `df_engage.groupby(pd.Grouper(freq=\"W\"))`."
   ],
   "cell_type": "markdown",
   "metadata": {}
  },
  {
   "cell_type": "code",
   "execution_count": 67,
   "metadata": {},
   "outputs": [
    {
     "output_type": "execute_result",
     "data": {
      "text/plain": [
       "                                                                 mental_note  \\\n",
       "time_in                                                                        \n",
       "2021-05-02 03:05:00-06:00                              # More Savor Building   \n",
       "2021-05-02 03:00:00-06:00                                                NaN   \n",
       "2021-05-02 02:50:00-06:00                                                NaN   \n",
       "2021-05-02 02:36:00-06:00  Watched some of Marcus' boring hotel tour vide...   \n",
       "2021-05-02 02:33:00-06:00                                                NaN   \n",
       "\n",
       "                                       session         subloc  \\\n",
       "time_in                                                         \n",
       "2021-05-02 03:05:00-06:00  [recgLfVD1QYzOBBCH]       [Studio]   \n",
       "2021-05-02 03:00:00-06:00  [recgLfVD1QYzOBBCH]       [Studio]   \n",
       "2021-05-02 02:50:00-06:00  [recgLfVD1QYzOBBCH]       [Studio]   \n",
       "2021-05-02 02:36:00-06:00  [recgLfVD1QYzOBBCH]  [Living Room]   \n",
       "2021-05-02 02:33:00-06:00  [recgLfVD1QYzOBBCH]      [Kitchen]   \n",
       "\n",
       "                                                tag      mental     physical  \\\n",
       "time_in                                                                        \n",
       "2021-05-02 03:05:00-06:00  [savor, python, jupyter]      [Code]      [Stand]   \n",
       "2021-05-02 03:00:00-06:00                       NaN     [Think]        [Cap]   \n",
       "2021-05-02 02:50:00-06:00                       NaN  [Workflow]      [Stand]   \n",
       "2021-05-02 02:36:00-06:00                 [youtube]     [Watch]      [Snack]   \n",
       "2021-05-02 02:33:00-06:00                       NaN     [Think]  [Food prep]   \n",
       "\n",
       "                              project_location                 id  \\\n",
       "time_in                                                             \n",
       "2021-05-02 03:05:00-06:00  [recidY4IXWvLNWOp0]  recYUJGCj6KjFf8SY   \n",
       "2021-05-02 03:00:00-06:00  [recidY4IXWvLNWOp0]  rec5wpcGPyH3HOa4u   \n",
       "2021-05-02 02:50:00-06:00  [recidY4IXWvLNWOp0]  rec1JgDA1NwUoSgU1   \n",
       "2021-05-02 02:36:00-06:00  [recidY4IXWvLNWOp0]  rec2H3q3ihfPrc44d   \n",
       "2021-05-02 02:33:00-06:00  [recidY4IXWvLNWOp0]  reci2c3QLq6mL2q1Y   \n",
       "\n",
       "                                          dose  \\\n",
       "time_in                                          \n",
       "2021-05-02 03:05:00-06:00                  NaN   \n",
       "2021-05-02 03:00:00-06:00  [recqH7cYgoNWds9rc]   \n",
       "2021-05-02 02:50:00-06:00                  NaN   \n",
       "2021-05-02 02:36:00-06:00                  NaN   \n",
       "2021-05-02 02:33:00-06:00                  NaN   \n",
       "\n",
       "                                                               physical_note  \\\n",
       "time_in                                                                        \n",
       "2021-05-02 03:05:00-06:00                                                NaN   \n",
       "2021-05-02 03:00:00-06:00                                                NaN   \n",
       "2021-05-02 02:50:00-06:00                                                NaN   \n",
       "2021-05-02 02:36:00-06:00  Ate a chocolate chip cookie with ice cream and...   \n",
       "2021-05-02 02:33:00-06:00  Decided to send it with a cookie, then added i...   \n",
       "\n",
       "                                         who moment_log location  \\\n",
       "time_in                                                            \n",
       "2021-05-02 03:05:00-06:00                NaN        NaN      NaN   \n",
       "2021-05-02 03:00:00-06:00                NaN        NaN      NaN   \n",
       "2021-05-02 02:50:00-06:00                NaN        NaN      NaN   \n",
       "2021-05-02 02:36:00-06:00  [Marcus Ahlfeldt]        NaN      NaN   \n",
       "2021-05-02 02:33:00-06:00                NaN        NaN      NaN   \n",
       "\n",
       "                                           time_out        duration  \n",
       "time_in                                                              \n",
       "2021-05-02 03:05:00-06:00                       NaT             NaT  \n",
       "2021-05-02 03:00:00-06:00 2021-05-02 03:05:00-06:00 0 days 00:05:00  \n",
       "2021-05-02 02:50:00-06:00 2021-05-02 03:00:00-06:00 0 days 00:10:00  \n",
       "2021-05-02 02:36:00-06:00 2021-05-02 02:50:00-06:00 0 days 00:14:00  \n",
       "2021-05-02 02:33:00-06:00 2021-05-02 02:36:00-06:00 0 days 00:03:00  "
      ],
      "text/html": "<div>\n<style scoped>\n    .dataframe tbody tr th:only-of-type {\n        vertical-align: middle;\n    }\n\n    .dataframe tbody tr th {\n        vertical-align: top;\n    }\n\n    .dataframe thead th {\n        text-align: right;\n    }\n</style>\n<table border=\"1\" class=\"dataframe\">\n  <thead>\n    <tr style=\"text-align: right;\">\n      <th></th>\n      <th>mental_note</th>\n      <th>session</th>\n      <th>subloc</th>\n      <th>tag</th>\n      <th>mental</th>\n      <th>physical</th>\n      <th>project_location</th>\n      <th>id</th>\n      <th>dose</th>\n      <th>physical_note</th>\n      <th>who</th>\n      <th>moment_log</th>\n      <th>location</th>\n      <th>time_out</th>\n      <th>duration</th>\n    </tr>\n    <tr>\n      <th>time_in</th>\n      <th></th>\n      <th></th>\n      <th></th>\n      <th></th>\n      <th></th>\n      <th></th>\n      <th></th>\n      <th></th>\n      <th></th>\n      <th></th>\n      <th></th>\n      <th></th>\n      <th></th>\n      <th></th>\n      <th></th>\n    </tr>\n  </thead>\n  <tbody>\n    <tr>\n      <th>2021-05-02 03:05:00-06:00</th>\n      <td># More Savor Building</td>\n      <td>[recgLfVD1QYzOBBCH]</td>\n      <td>[Studio]</td>\n      <td>[savor, python, jupyter]</td>\n      <td>[Code]</td>\n      <td>[Stand]</td>\n      <td>[recidY4IXWvLNWOp0]</td>\n      <td>recYUJGCj6KjFf8SY</td>\n      <td>NaN</td>\n      <td>NaN</td>\n      <td>NaN</td>\n      <td>NaN</td>\n      <td>NaN</td>\n      <td>NaT</td>\n      <td>NaT</td>\n    </tr>\n    <tr>\n      <th>2021-05-02 03:00:00-06:00</th>\n      <td>NaN</td>\n      <td>[recgLfVD1QYzOBBCH]</td>\n      <td>[Studio]</td>\n      <td>NaN</td>\n      <td>[Think]</td>\n      <td>[Cap]</td>\n      <td>[recidY4IXWvLNWOp0]</td>\n      <td>rec5wpcGPyH3HOa4u</td>\n      <td>[recqH7cYgoNWds9rc]</td>\n      <td>NaN</td>\n      <td>NaN</td>\n      <td>NaN</td>\n      <td>NaN</td>\n      <td>2021-05-02 03:05:00-06:00</td>\n      <td>0 days 00:05:00</td>\n    </tr>\n    <tr>\n      <th>2021-05-02 02:50:00-06:00</th>\n      <td>NaN</td>\n      <td>[recgLfVD1QYzOBBCH]</td>\n      <td>[Studio]</td>\n      <td>NaN</td>\n      <td>[Workflow]</td>\n      <td>[Stand]</td>\n      <td>[recidY4IXWvLNWOp0]</td>\n      <td>rec1JgDA1NwUoSgU1</td>\n      <td>NaN</td>\n      <td>NaN</td>\n      <td>NaN</td>\n      <td>NaN</td>\n      <td>NaN</td>\n      <td>2021-05-02 03:00:00-06:00</td>\n      <td>0 days 00:10:00</td>\n    </tr>\n    <tr>\n      <th>2021-05-02 02:36:00-06:00</th>\n      <td>Watched some of Marcus' boring hotel tour vide...</td>\n      <td>[recgLfVD1QYzOBBCH]</td>\n      <td>[Living Room]</td>\n      <td>[youtube]</td>\n      <td>[Watch]</td>\n      <td>[Snack]</td>\n      <td>[recidY4IXWvLNWOp0]</td>\n      <td>rec2H3q3ihfPrc44d</td>\n      <td>NaN</td>\n      <td>Ate a chocolate chip cookie with ice cream and...</td>\n      <td>[Marcus Ahlfeldt]</td>\n      <td>NaN</td>\n      <td>NaN</td>\n      <td>2021-05-02 02:50:00-06:00</td>\n      <td>0 days 00:14:00</td>\n    </tr>\n    <tr>\n      <th>2021-05-02 02:33:00-06:00</th>\n      <td>NaN</td>\n      <td>[recgLfVD1QYzOBBCH]</td>\n      <td>[Kitchen]</td>\n      <td>NaN</td>\n      <td>[Think]</td>\n      <td>[Food prep]</td>\n      <td>[recidY4IXWvLNWOp0]</td>\n      <td>reci2c3QLq6mL2q1Y</td>\n      <td>NaN</td>\n      <td>Decided to send it with a cookie, then added i...</td>\n      <td>NaN</td>\n      <td>NaN</td>\n      <td>NaN</td>\n      <td>2021-05-02 02:36:00-06:00</td>\n      <td>0 days 00:03:00</td>\n    </tr>\n  </tbody>\n</table>\n</div>"
     },
     "metadata": {},
     "execution_count": 67
    }
   ],
   "source": [
    "# Set time_in as DatetimeIndex\n",
    "# TODO: why is the drop=True not working?\n",
    "df3_engage = df2_engage.set_index(pd.DatetimeIndex(df2_engage[\"time_in\"])).drop(columns=[\"time_in\"])\n",
    "df3_engage.head()"
   ]
  },
  {
   "source": [
    "### Transformation (Expansion)\n",
    "\n",
    "It's a little clunky to work with the relational fields in their current form: a list associated to a record. E.g. tags `[python, jupyter]`. Time to expand them all out into separate columns!\n",
    "\n",
    "- [Expand arrays in cells](https://chrisalbon.com/python/data_wrangling/pandas_expand_cells_containing_lists/)\n",
    "- [DataFrame JOINs](https://pandas.pydata.org/pandas-docs/stable/getting_started/comparison/comparison_with_sql.html#compare-with-sql-join)"
   ],
   "cell_type": "markdown",
   "metadata": {}
  },
  {
   "cell_type": "code",
   "execution_count": 60,
   "metadata": {},
   "outputs": [],
   "source": [
    "def expand_list_cols(df: pd.DataFrame, cols: List[str]) -> pd.DataFrame:\n",
    "    \"\"\"Expands arrays contained in columns and concatenates them\n",
    "    back onto the original DataFrame.\n",
    "    \"\"\"\n",
    "    df = df.copy()  # Make copy so original is not modified\n",
    "    df_list = [None] * len(cols)  # Create list of same length\n",
    "    for i, col in enumerate(cols):  # Iterate through column names\n",
    "        # Expand column into its own dataframe\n",
    "        df_list[i] = df[col].apply(pd.Series)\n",
    "        # Rename and number columns\n",
    "        if len(df_list[i].columns) > 1:\n",
    "            df_list[i] = df_list[i].rename(columns = lambda x: f\"{col}_{x}\")\n",
    "        else:  # If only one column, don't add suffix\n",
    "            df_list[i] = df_list[i].rename(columns = lambda x: f\"{col}\")\n",
    "\n",
    "        df = df.drop(columns=[col])  # Drop original column\n",
    "\n",
    "    # Concatenate original with new dataframes\n",
    "    return pd.concat([df] + df_list, axis=1)"
   ]
  },
  {
   "cell_type": "code",
   "execution_count": 68,
   "metadata": {},
   "outputs": [
    {
     "output_type": "execute_result",
     "data": {
      "text/plain": [
       "                                                                 mental_note  \\\n",
       "time_in                                                                        \n",
       "2021-05-02 03:05:00-06:00                              # More Savor Building   \n",
       "2021-05-02 03:00:00-06:00                                                NaN   \n",
       "2021-05-02 02:50:00-06:00                                                NaN   \n",
       "2021-05-02 02:36:00-06:00  Watched some of Marcus' boring hotel tour vide...   \n",
       "2021-05-02 02:33:00-06:00                                                NaN   \n",
       "\n",
       "                                          id  \\\n",
       "time_in                                        \n",
       "2021-05-02 03:05:00-06:00  recYUJGCj6KjFf8SY   \n",
       "2021-05-02 03:00:00-06:00  rec5wpcGPyH3HOa4u   \n",
       "2021-05-02 02:50:00-06:00  rec1JgDA1NwUoSgU1   \n",
       "2021-05-02 02:36:00-06:00  rec2H3q3ihfPrc44d   \n",
       "2021-05-02 02:33:00-06:00  reci2c3QLq6mL2q1Y   \n",
       "\n",
       "                                                               physical_note  \\\n",
       "time_in                                                                        \n",
       "2021-05-02 03:05:00-06:00                                                NaN   \n",
       "2021-05-02 03:00:00-06:00                                                NaN   \n",
       "2021-05-02 02:50:00-06:00                                                NaN   \n",
       "2021-05-02 02:36:00-06:00  Ate a chocolate chip cookie with ice cream and...   \n",
       "2021-05-02 02:33:00-06:00  Decided to send it with a cookie, then added i...   \n",
       "\n",
       "                          location                  time_out        duration  \\\n",
       "time_in                                                                        \n",
       "2021-05-02 03:05:00-06:00      NaN                       NaT             NaT   \n",
       "2021-05-02 03:00:00-06:00      NaN 2021-05-02 03:05:00-06:00 0 days 00:05:00   \n",
       "2021-05-02 02:50:00-06:00      NaN 2021-05-02 03:00:00-06:00 0 days 00:10:00   \n",
       "2021-05-02 02:36:00-06:00      NaN 2021-05-02 02:50:00-06:00 0 days 00:14:00   \n",
       "2021-05-02 02:33:00-06:00      NaN 2021-05-02 02:36:00-06:00 0 days 00:03:00   \n",
       "\n",
       "                           mental_0 mental_1 physical_0 physical_1    tag_0  \\\n",
       "time_in                                                                       \n",
       "2021-05-02 03:05:00-06:00      Code      NaN      Stand        NaN    savor   \n",
       "2021-05-02 03:00:00-06:00     Think      NaN        Cap        NaN      NaN   \n",
       "2021-05-02 02:50:00-06:00  Workflow      NaN      Stand        NaN      NaN   \n",
       "2021-05-02 02:36:00-06:00     Watch      NaN      Snack        NaN  youtube   \n",
       "2021-05-02 02:33:00-06:00     Think      NaN  Food prep        NaN      NaN   \n",
       "\n",
       "                            tag_1    tag_2 tag_3       subloc moment_log  \\\n",
       "time_in                                                                    \n",
       "2021-05-02 03:05:00-06:00  python  jupyter   NaN       Studio        NaN   \n",
       "2021-05-02 03:00:00-06:00     NaN      NaN   NaN       Studio        NaN   \n",
       "2021-05-02 02:50:00-06:00     NaN      NaN   NaN       Studio        NaN   \n",
       "2021-05-02 02:36:00-06:00     NaN      NaN   NaN  Living Room        NaN   \n",
       "2021-05-02 02:33:00-06:00     NaN      NaN   NaN      Kitchen        NaN   \n",
       "\n",
       "                                     who_0 who_1 who_2 who_3 who_4 who_5  \\\n",
       "time_in                                                                    \n",
       "2021-05-02 03:05:00-06:00              NaN   NaN   NaN   NaN   NaN   NaN   \n",
       "2021-05-02 03:00:00-06:00              NaN   NaN   NaN   NaN   NaN   NaN   \n",
       "2021-05-02 02:50:00-06:00              NaN   NaN   NaN   NaN   NaN   NaN   \n",
       "2021-05-02 02:36:00-06:00  Marcus Ahlfeldt   NaN   NaN   NaN   NaN   NaN   \n",
       "2021-05-02 02:33:00-06:00              NaN   NaN   NaN   NaN   NaN   NaN   \n",
       "\n",
       "                          who_6 who_7             dose_0 dose_1 dose_2 dose_3  \\\n",
       "time_in                                                                         \n",
       "2021-05-02 03:05:00-06:00   NaN   NaN                NaN    NaN    NaN    NaN   \n",
       "2021-05-02 03:00:00-06:00   NaN   NaN  recqH7cYgoNWds9rc    NaN    NaN    NaN   \n",
       "2021-05-02 02:50:00-06:00   NaN   NaN                NaN    NaN    NaN    NaN   \n",
       "2021-05-02 02:36:00-06:00   NaN   NaN                NaN    NaN    NaN    NaN   \n",
       "2021-05-02 02:33:00-06:00   NaN   NaN                NaN    NaN    NaN    NaN   \n",
       "\n",
       "                          dose_4            session   project_location  \n",
       "time_in                                                                 \n",
       "2021-05-02 03:05:00-06:00    NaN  recgLfVD1QYzOBBCH  recidY4IXWvLNWOp0  \n",
       "2021-05-02 03:00:00-06:00    NaN  recgLfVD1QYzOBBCH  recidY4IXWvLNWOp0  \n",
       "2021-05-02 02:50:00-06:00    NaN  recgLfVD1QYzOBBCH  recidY4IXWvLNWOp0  \n",
       "2021-05-02 02:36:00-06:00    NaN  recgLfVD1QYzOBBCH  recidY4IXWvLNWOp0  \n",
       "2021-05-02 02:33:00-06:00    NaN  recgLfVD1QYzOBBCH  recidY4IXWvLNWOp0  "
      ],
      "text/html": "<div>\n<style scoped>\n    .dataframe tbody tr th:only-of-type {\n        vertical-align: middle;\n    }\n\n    .dataframe tbody tr th {\n        vertical-align: top;\n    }\n\n    .dataframe thead th {\n        text-align: right;\n    }\n</style>\n<table border=\"1\" class=\"dataframe\">\n  <thead>\n    <tr style=\"text-align: right;\">\n      <th></th>\n      <th>mental_note</th>\n      <th>id</th>\n      <th>physical_note</th>\n      <th>location</th>\n      <th>time_out</th>\n      <th>duration</th>\n      <th>mental_0</th>\n      <th>mental_1</th>\n      <th>physical_0</th>\n      <th>physical_1</th>\n      <th>tag_0</th>\n      <th>tag_1</th>\n      <th>tag_2</th>\n      <th>tag_3</th>\n      <th>subloc</th>\n      <th>moment_log</th>\n      <th>who_0</th>\n      <th>who_1</th>\n      <th>who_2</th>\n      <th>who_3</th>\n      <th>who_4</th>\n      <th>who_5</th>\n      <th>who_6</th>\n      <th>who_7</th>\n      <th>dose_0</th>\n      <th>dose_1</th>\n      <th>dose_2</th>\n      <th>dose_3</th>\n      <th>dose_4</th>\n      <th>session</th>\n      <th>project_location</th>\n    </tr>\n    <tr>\n      <th>time_in</th>\n      <th></th>\n      <th></th>\n      <th></th>\n      <th></th>\n      <th></th>\n      <th></th>\n      <th></th>\n      <th></th>\n      <th></th>\n      <th></th>\n      <th></th>\n      <th></th>\n      <th></th>\n      <th></th>\n      <th></th>\n      <th></th>\n      <th></th>\n      <th></th>\n      <th></th>\n      <th></th>\n      <th></th>\n      <th></th>\n      <th></th>\n      <th></th>\n      <th></th>\n      <th></th>\n      <th></th>\n      <th></th>\n      <th></th>\n      <th></th>\n      <th></th>\n    </tr>\n  </thead>\n  <tbody>\n    <tr>\n      <th>2021-05-02 03:05:00-06:00</th>\n      <td># More Savor Building</td>\n      <td>recYUJGCj6KjFf8SY</td>\n      <td>NaN</td>\n      <td>NaN</td>\n      <td>NaT</td>\n      <td>NaT</td>\n      <td>Code</td>\n      <td>NaN</td>\n      <td>Stand</td>\n      <td>NaN</td>\n      <td>savor</td>\n      <td>python</td>\n      <td>jupyter</td>\n      <td>NaN</td>\n      <td>Studio</td>\n      <td>NaN</td>\n      <td>NaN</td>\n      <td>NaN</td>\n      <td>NaN</td>\n      <td>NaN</td>\n      <td>NaN</td>\n      <td>NaN</td>\n      <td>NaN</td>\n      <td>NaN</td>\n      <td>NaN</td>\n      <td>NaN</td>\n      <td>NaN</td>\n      <td>NaN</td>\n      <td>NaN</td>\n      <td>recgLfVD1QYzOBBCH</td>\n      <td>recidY4IXWvLNWOp0</td>\n    </tr>\n    <tr>\n      <th>2021-05-02 03:00:00-06:00</th>\n      <td>NaN</td>\n      <td>rec5wpcGPyH3HOa4u</td>\n      <td>NaN</td>\n      <td>NaN</td>\n      <td>2021-05-02 03:05:00-06:00</td>\n      <td>0 days 00:05:00</td>\n      <td>Think</td>\n      <td>NaN</td>\n      <td>Cap</td>\n      <td>NaN</td>\n      <td>NaN</td>\n      <td>NaN</td>\n      <td>NaN</td>\n      <td>NaN</td>\n      <td>Studio</td>\n      <td>NaN</td>\n      <td>NaN</td>\n      <td>NaN</td>\n      <td>NaN</td>\n      <td>NaN</td>\n      <td>NaN</td>\n      <td>NaN</td>\n      <td>NaN</td>\n      <td>NaN</td>\n      <td>recqH7cYgoNWds9rc</td>\n      <td>NaN</td>\n      <td>NaN</td>\n      <td>NaN</td>\n      <td>NaN</td>\n      <td>recgLfVD1QYzOBBCH</td>\n      <td>recidY4IXWvLNWOp0</td>\n    </tr>\n    <tr>\n      <th>2021-05-02 02:50:00-06:00</th>\n      <td>NaN</td>\n      <td>rec1JgDA1NwUoSgU1</td>\n      <td>NaN</td>\n      <td>NaN</td>\n      <td>2021-05-02 03:00:00-06:00</td>\n      <td>0 days 00:10:00</td>\n      <td>Workflow</td>\n      <td>NaN</td>\n      <td>Stand</td>\n      <td>NaN</td>\n      <td>NaN</td>\n      <td>NaN</td>\n      <td>NaN</td>\n      <td>NaN</td>\n      <td>Studio</td>\n      <td>NaN</td>\n      <td>NaN</td>\n      <td>NaN</td>\n      <td>NaN</td>\n      <td>NaN</td>\n      <td>NaN</td>\n      <td>NaN</td>\n      <td>NaN</td>\n      <td>NaN</td>\n      <td>NaN</td>\n      <td>NaN</td>\n      <td>NaN</td>\n      <td>NaN</td>\n      <td>NaN</td>\n      <td>recgLfVD1QYzOBBCH</td>\n      <td>recidY4IXWvLNWOp0</td>\n    </tr>\n    <tr>\n      <th>2021-05-02 02:36:00-06:00</th>\n      <td>Watched some of Marcus' boring hotel tour vide...</td>\n      <td>rec2H3q3ihfPrc44d</td>\n      <td>Ate a chocolate chip cookie with ice cream and...</td>\n      <td>NaN</td>\n      <td>2021-05-02 02:50:00-06:00</td>\n      <td>0 days 00:14:00</td>\n      <td>Watch</td>\n      <td>NaN</td>\n      <td>Snack</td>\n      <td>NaN</td>\n      <td>youtube</td>\n      <td>NaN</td>\n      <td>NaN</td>\n      <td>NaN</td>\n      <td>Living Room</td>\n      <td>NaN</td>\n      <td>Marcus Ahlfeldt</td>\n      <td>NaN</td>\n      <td>NaN</td>\n      <td>NaN</td>\n      <td>NaN</td>\n      <td>NaN</td>\n      <td>NaN</td>\n      <td>NaN</td>\n      <td>NaN</td>\n      <td>NaN</td>\n      <td>NaN</td>\n      <td>NaN</td>\n      <td>NaN</td>\n      <td>recgLfVD1QYzOBBCH</td>\n      <td>recidY4IXWvLNWOp0</td>\n    </tr>\n    <tr>\n      <th>2021-05-02 02:33:00-06:00</th>\n      <td>NaN</td>\n      <td>reci2c3QLq6mL2q1Y</td>\n      <td>Decided to send it with a cookie, then added i...</td>\n      <td>NaN</td>\n      <td>2021-05-02 02:36:00-06:00</td>\n      <td>0 days 00:03:00</td>\n      <td>Think</td>\n      <td>NaN</td>\n      <td>Food prep</td>\n      <td>NaN</td>\n      <td>NaN</td>\n      <td>NaN</td>\n      <td>NaN</td>\n      <td>NaN</td>\n      <td>Kitchen</td>\n      <td>NaN</td>\n      <td>NaN</td>\n      <td>NaN</td>\n      <td>NaN</td>\n      <td>NaN</td>\n      <td>NaN</td>\n      <td>NaN</td>\n      <td>NaN</td>\n      <td>NaN</td>\n      <td>NaN</td>\n      <td>NaN</td>\n      <td>NaN</td>\n      <td>NaN</td>\n      <td>NaN</td>\n      <td>recgLfVD1QYzOBBCH</td>\n      <td>recidY4IXWvLNWOp0</td>\n    </tr>\n  </tbody>\n</table>\n</div>"
     },
     "metadata": {},
     "execution_count": 68
    }
   ],
   "source": [
    "# Expand all relation columns\n",
    "relations = [\n",
    "    \"mental\",\n",
    "    \"physical\",\n",
    "    \"tag\",\n",
    "    \"subloc\",\n",
    "    \"moment_log\",\n",
    "    \"who\",\n",
    "    \"dose\",\n",
    "    \"session\",\n",
    "    \"project_location\",\n",
    "]\n",
    "\n",
    "df4_engage = expand_list_cols(df3_engage, relations)\n",
    "df4_engage.head()"
   ]
  },
  {
   "source": [
    "---\n",
    "\n",
    "## Dashboard\n",
    "\n",
    "Although this pipeline will ultimately be used in the dashboard app I'm building to explore my Savor data, I'll go through the process here of creating an example of the visualization that will be rendered in the app.\n",
    "\n",
    "I calculated the aggregate durations in a somewhat clunky way in my first blog post [exploring Savor data](https://tobias.fyi/blog/savor-data-analysis-part-1#Monthly-totals). I think I can improve on it by skipping the intermediate step of \"duration-hot encoding\" the activity features, and aggregate them directly from the frame seen above."
   ],
   "cell_type": "markdown",
   "metadata": {}
  },
  {
   "cell_type": "code",
   "execution_count": null,
   "metadata": {},
   "outputs": [],
   "source": []
  }
 ]
}